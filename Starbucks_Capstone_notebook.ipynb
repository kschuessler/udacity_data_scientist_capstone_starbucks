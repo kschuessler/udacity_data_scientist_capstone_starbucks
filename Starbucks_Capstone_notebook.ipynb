{
 "cells": [
  {
   "cell_type": "markdown",
   "metadata": {},
   "source": [
    "# Starbucks Capstone Challenge: Predicting Offer Success\n",
    "\n",
    "\n",
    "## 1. Assignment\n",
    "\n",
    "This notebook contains my approach to the Capstone Project for the Udacity Data Scientist Nanodegree. As the data set and some instructions are given out, they can be found in this section.\n",
    "\n",
    "### (a) Introduction\n",
    "\n",
    "This data set contains simulated data that mimics customer behavior on the Starbucks rewards mobile app. Once every few days, Starbucks sends out an offer to users of the mobile app. An offer can be merely an advertisement for a drink or an actual offer such as a discount or BOGO (buy one get one free). Some users might not receive any offer during certain weeks. \n",
    "\n",
    "Not all users receive the same offer, and that is the challenge to solve with this data set.\n",
    "\n",
    "Your task is to combine transaction, demographic and offer data to determine which demographic groups respond best to which offer type. This data set is a simplified version of the real Starbucks app because the underlying simulator only has one product whereas Starbucks actually sells dozens of products.\n",
    "\n",
    "Every offer has a validity period before the offer expires. As an example, a BOGO offer might be valid for only 5 days. You'll see in the data set that informational offers have a validity period even though these ads are merely providing information about a product; for example, if an informational offer has 7 days of validity, you can assume the customer is feeling the influence of the offer for 7 days after receiving the advertisement.\n",
    "\n",
    "You'll be given transactional data showing user purchases made on the app including the timestamp of purchase and the amount of money spent on a purchase. This transactional data also has a record for each offer that a user receives as well as a record for when a user actually views the offer. There are also records for when a user completes an offer. \n",
    "\n",
    "Keep in mind as well that someone using the app might make a purchase through the app without having received an offer or seen an offer.\n",
    "\n",
    "### (b) Example\n",
    "\n",
    "To give an example, a user could receive a discount offer buy 10 dollars get 2 off on Monday. The offer is valid for 10 days from receipt. If the customer accumulates at least 10 dollars in purchases during the validity period, the customer completes the offer.\n",
    "\n",
    "However, there are a few things to watch out for in this data set. Customers do not opt into the offers that they receive; in other words, a user can receive an offer, never actually view the offer, and still complete the offer. For example, a user might receive the \"buy 10 dollars get 2 dollars off offer\", but the user never opens the offer during the 10 day validity period. The customer spends 15 dollars during those ten days. There will be an offer completion record in the data set; however, the customer was not influenced by the offer because the customer never viewed the offer.\n",
    "\n",
    "### (c) Cleaning\n",
    "\n",
    "This makes data cleaning especially important and tricky.\n",
    "\n",
    "You'll also want to take into account that some demographic groups will make purchases even if they don't receive an offer. From a business perspective, if a customer is going to make a 10 dollar purchase without an offer anyway, you wouldn't want to send a buy 10 dollars get 2 dollars off offer. You'll want to try to assess what a certain demographic group will buy when not receiving any offers.\n",
    "\n",
    "### (d) Final Advice\n",
    "\n",
    "Because this is a capstone project, you are free to analyze the data any way you see fit. For example, you could build a machine learning model that predicts how much someone will spend based on demographics and offer type. Or you could build a model that predicts whether or not someone will respond to an offer. Or, you don't need to build a machine learning model at all. You could develop a set of heuristics that determine what offer you should send to each customer (i.e., 75 percent of women customers who were 35 years old responded to offer A vs 40 percent from the same demographic to offer B, so send offer A)."
   ]
  },
  {
   "cell_type": "markdown",
   "metadata": {},
   "source": [
    "## 2. Problem Statement\n",
    "\n",
    "Based on the introduction given in the assignment, my goal in this project is to build a machine learning model predicting  offer success based on the demographic information and the offer details that are provided in the data."
   ]
  },
  {
   "cell_type": "markdown",
   "metadata": {},
   "source": [
    "## 3. Data Exploration\n",
    "\n",
    "In this section, I load and clean the data and perform some basic exploratory analyses to better understand how to successfully build a prediction model."
   ]
  },
  {
   "cell_type": "code",
   "execution_count": 1,
   "metadata": {},
   "outputs": [],
   "source": [
    "# package imports\n",
    "import pandas as pd\n",
    "import numpy as np\n",
    "import math\n",
    "import matplotlib.pyplot as plt\n",
    "import json\n",
    "import datetime\n",
    "import seaborn as sns\n",
    "from sklearn.model_selection import train_test_split, RandomizedSearchCV\n",
    "from sklearn.ensemble import RandomForestClassifier\n",
    "from sklearn.metrics import accuracy_score, classification_report, plot_confusion_matrix, roc_auc_score\n",
    "%matplotlib inline"
   ]
  },
  {
   "cell_type": "markdown",
   "metadata": {},
   "source": [
    "The data is contained in three files:\n",
    "\n",
    "* portfolio.json - containing offer ids and meta data about each offer (duration, type, etc.)\n",
    "* profile.json - demographic data for each customer\n",
    "* transcript.json - records for transactions, offers received, offers viewed, and offers completed\n",
    "\n",
    "As a first step, all three need to be read in."
   ]
  },
  {
   "cell_type": "code",
   "execution_count": 2,
   "metadata": {},
   "outputs": [],
   "source": [
    "# read in the json files\n",
    "portfolio = pd.read_json('data/portfolio.json', orient='records', lines=True)\n",
    "profile = pd.read_json('data/profile.json', orient='records', lines=True)\n",
    "transcript = pd.read_json('data/transcript.json', orient='records', lines=True)"
   ]
  },
  {
   "cell_type": "markdown",
   "metadata": {},
   "source": [
    "### (a) Portfolio data - offer information\n",
    "\n",
    "First, let's take a quick look at the different offers in the portfolio. The schema and explanation of each variable according to the assignment details are as follows:\n",
    "\n",
    "**portfolio.json**\n",
    "* id (string) - offer id\n",
    "* offer_type (string) - type of offer ie BOGO, discount, informational\n",
    "* difficulty (int) - minimum required spend to complete an offer\n",
    "* reward (int) - reward given for completing an offer\n",
    "* duration (int) - time for offer to be open, in days\n",
    "* channels (list of strings)"
   ]
  },
  {
   "cell_type": "code",
   "execution_count": 3,
   "metadata": {},
   "outputs": [
    {
     "data": {
      "text/html": [
       "<div>\n",
       "<style scoped>\n",
       "    .dataframe tbody tr th:only-of-type {\n",
       "        vertical-align: middle;\n",
       "    }\n",
       "\n",
       "    .dataframe tbody tr th {\n",
       "        vertical-align: top;\n",
       "    }\n",
       "\n",
       "    .dataframe thead th {\n",
       "        text-align: right;\n",
       "    }\n",
       "</style>\n",
       "<table border=\"1\" class=\"dataframe\">\n",
       "  <thead>\n",
       "    <tr style=\"text-align: right;\">\n",
       "      <th></th>\n",
       "      <th>reward</th>\n",
       "      <th>channels</th>\n",
       "      <th>difficulty</th>\n",
       "      <th>duration</th>\n",
       "      <th>offer_type</th>\n",
       "      <th>id</th>\n",
       "    </tr>\n",
       "  </thead>\n",
       "  <tbody>\n",
       "    <tr>\n",
       "      <th>0</th>\n",
       "      <td>10</td>\n",
       "      <td>[email, mobile, social]</td>\n",
       "      <td>10</td>\n",
       "      <td>7</td>\n",
       "      <td>bogo</td>\n",
       "      <td>ae264e3637204a6fb9bb56bc8210ddfd</td>\n",
       "    </tr>\n",
       "    <tr>\n",
       "      <th>1</th>\n",
       "      <td>10</td>\n",
       "      <td>[web, email, mobile, social]</td>\n",
       "      <td>10</td>\n",
       "      <td>5</td>\n",
       "      <td>bogo</td>\n",
       "      <td>4d5c57ea9a6940dd891ad53e9dbe8da0</td>\n",
       "    </tr>\n",
       "  </tbody>\n",
       "</table>\n",
       "</div>"
      ],
      "text/plain": [
       "   reward                      channels  difficulty  duration offer_type  \\\n",
       "0      10       [email, mobile, social]          10         7       bogo   \n",
       "1      10  [web, email, mobile, social]          10         5       bogo   \n",
       "\n",
       "                                 id  \n",
       "0  ae264e3637204a6fb9bb56bc8210ddfd  \n",
       "1  4d5c57ea9a6940dd891ad53e9dbe8da0  "
      ]
     },
     "execution_count": 3,
     "metadata": {},
     "output_type": "execute_result"
    }
   ],
   "source": [
    "portfolio.head(2)"
   ]
  },
  {
   "cell_type": "code",
   "execution_count": 4,
   "metadata": {},
   "outputs": [
    {
     "name": "stdout",
     "output_type": "stream",
     "text": [
      "There are 10 unique offers in the portfolio.\n",
      "These are distributed among the offer types as follows:\n",
      " BOGO:\t\t4\n",
      " Discount:\t4\n",
      " Informational:\t2\n"
     ]
    }
   ],
   "source": [
    "print(\"There are {} unique offers in the portfolio.\".format(portfolio['id'].nunique()))\n",
    "offer_type_counts = portfolio.groupby('offer_type')['id'].count()\n",
    "print(\"These are distributed among the offer types as follows:\\n BOGO:\\t\\t{}\\n Discount:\\t{}\\n Informational:\\t{}\".format(offer_type_counts.loc['bogo'], offer_type_counts.loc['discount'], offer_type_counts.loc['informational']))"
   ]
  },
  {
   "cell_type": "code",
   "execution_count": 5,
   "metadata": {},
   "outputs": [
    {
     "data": {
      "text/plain": [
       "reward        0\n",
       "channels      0\n",
       "difficulty    0\n",
       "duration      0\n",
       "offer_type    0\n",
       "id            0\n",
       "dtype: int64"
      ]
     },
     "execution_count": 5,
     "metadata": {},
     "output_type": "execute_result"
    }
   ],
   "source": [
    "portfolio.isnull().sum()"
   ]
  },
  {
   "cell_type": "markdown",
   "metadata": {},
   "source": [
    "Unsurprisingly, there are no missing values in the offer data."
   ]
  },
  {
   "cell_type": "markdown",
   "metadata": {},
   "source": [
    "The different channels as well as the offer types need to be represented differently for analysis. Here is a function that can be used to clean the portfolio data set:"
   ]
  },
  {
   "cell_type": "code",
   "execution_count": 6,
   "metadata": {},
   "outputs": [],
   "source": [
    "# Clean portfolio data set\n",
    "def clean_portfolio(portfolio=portfolio):\n",
    "    '''\n",
    "    cleans the portfolio dataframe for further analysis\n",
    "    \n",
    "    INPUT:\n",
    "    portfolio - the dataframe to be cleaned (default: portfolio)\n",
    "    \n",
    "    OUTPUT:\n",
    "    portfolio - the cleaned portfolio dataframe\n",
    "    \n",
    "    '''\n",
    "    # clean channels\n",
    "    channels = pd.get_dummies(portfolio.channels.apply(pd.Series).stack()).sum(level=0)\n",
    "    portfolio = pd.concat([portfolio, channels], axis=1)\n",
    "    \n",
    "    # clean offer types\n",
    "    offer_types = pd.get_dummies(portfolio.offer_type)\n",
    "    portfolio = pd.concat([portfolio, offer_types], axis=1)\n",
    "    \n",
    "    portfolio['offer'] = (portfolio['offer_type'] + \"_\" + portfolio['reward'].astype('str')\n",
    "                          + \"_for_\" + portfolio['difficulty'].astype('str') + \"_in_\"\n",
    "                          + portfolio['duration'].astype('str') + \"days\")\n",
    "    \n",
    "    # drop and rename columns\n",
    "    portfolio.drop(['channels'], axis=1, inplace=True)\n",
    "    portfolio.rename(columns={'id':'offer_id'},inplace=True)\n",
    "    \n",
    "    return portfolio"
   ]
  },
  {
   "cell_type": "code",
   "execution_count": 7,
   "metadata": {},
   "outputs": [
    {
     "data": {
      "text/html": [
       "<div>\n",
       "<style scoped>\n",
       "    .dataframe tbody tr th:only-of-type {\n",
       "        vertical-align: middle;\n",
       "    }\n",
       "\n",
       "    .dataframe tbody tr th {\n",
       "        vertical-align: top;\n",
       "    }\n",
       "\n",
       "    .dataframe thead th {\n",
       "        text-align: right;\n",
       "    }\n",
       "</style>\n",
       "<table border=\"1\" class=\"dataframe\">\n",
       "  <thead>\n",
       "    <tr style=\"text-align: right;\">\n",
       "      <th></th>\n",
       "      <th>reward</th>\n",
       "      <th>difficulty</th>\n",
       "      <th>duration</th>\n",
       "      <th>offer_type</th>\n",
       "      <th>offer_id</th>\n",
       "      <th>email</th>\n",
       "      <th>mobile</th>\n",
       "      <th>social</th>\n",
       "      <th>web</th>\n",
       "      <th>bogo</th>\n",
       "      <th>discount</th>\n",
       "      <th>informational</th>\n",
       "      <th>offer</th>\n",
       "    </tr>\n",
       "  </thead>\n",
       "  <tbody>\n",
       "    <tr>\n",
       "      <th>0</th>\n",
       "      <td>10</td>\n",
       "      <td>10</td>\n",
       "      <td>7</td>\n",
       "      <td>bogo</td>\n",
       "      <td>ae264e3637204a6fb9bb56bc8210ddfd</td>\n",
       "      <td>1</td>\n",
       "      <td>1</td>\n",
       "      <td>1</td>\n",
       "      <td>0</td>\n",
       "      <td>1</td>\n",
       "      <td>0</td>\n",
       "      <td>0</td>\n",
       "      <td>bogo_10_for_10_in_7days</td>\n",
       "    </tr>\n",
       "    <tr>\n",
       "      <th>1</th>\n",
       "      <td>10</td>\n",
       "      <td>10</td>\n",
       "      <td>5</td>\n",
       "      <td>bogo</td>\n",
       "      <td>4d5c57ea9a6940dd891ad53e9dbe8da0</td>\n",
       "      <td>1</td>\n",
       "      <td>1</td>\n",
       "      <td>1</td>\n",
       "      <td>1</td>\n",
       "      <td>1</td>\n",
       "      <td>0</td>\n",
       "      <td>0</td>\n",
       "      <td>bogo_10_for_10_in_5days</td>\n",
       "    </tr>\n",
       "    <tr>\n",
       "      <th>2</th>\n",
       "      <td>0</td>\n",
       "      <td>0</td>\n",
       "      <td>4</td>\n",
       "      <td>informational</td>\n",
       "      <td>3f207df678b143eea3cee63160fa8bed</td>\n",
       "      <td>1</td>\n",
       "      <td>1</td>\n",
       "      <td>0</td>\n",
       "      <td>1</td>\n",
       "      <td>0</td>\n",
       "      <td>0</td>\n",
       "      <td>1</td>\n",
       "      <td>informational_0_for_0_in_4days</td>\n",
       "    </tr>\n",
       "    <tr>\n",
       "      <th>3</th>\n",
       "      <td>5</td>\n",
       "      <td>5</td>\n",
       "      <td>7</td>\n",
       "      <td>bogo</td>\n",
       "      <td>9b98b8c7a33c4b65b9aebfe6a799e6d9</td>\n",
       "      <td>1</td>\n",
       "      <td>1</td>\n",
       "      <td>0</td>\n",
       "      <td>1</td>\n",
       "      <td>1</td>\n",
       "      <td>0</td>\n",
       "      <td>0</td>\n",
       "      <td>bogo_5_for_5_in_7days</td>\n",
       "    </tr>\n",
       "    <tr>\n",
       "      <th>4</th>\n",
       "      <td>5</td>\n",
       "      <td>20</td>\n",
       "      <td>10</td>\n",
       "      <td>discount</td>\n",
       "      <td>0b1e1539f2cc45b7b9fa7c272da2e1d7</td>\n",
       "      <td>1</td>\n",
       "      <td>0</td>\n",
       "      <td>0</td>\n",
       "      <td>1</td>\n",
       "      <td>0</td>\n",
       "      <td>1</td>\n",
       "      <td>0</td>\n",
       "      <td>discount_5_for_20_in_10days</td>\n",
       "    </tr>\n",
       "    <tr>\n",
       "      <th>5</th>\n",
       "      <td>3</td>\n",
       "      <td>7</td>\n",
       "      <td>7</td>\n",
       "      <td>discount</td>\n",
       "      <td>2298d6c36e964ae4a3e7e9706d1fb8c2</td>\n",
       "      <td>1</td>\n",
       "      <td>1</td>\n",
       "      <td>1</td>\n",
       "      <td>1</td>\n",
       "      <td>0</td>\n",
       "      <td>1</td>\n",
       "      <td>0</td>\n",
       "      <td>discount_3_for_7_in_7days</td>\n",
       "    </tr>\n",
       "    <tr>\n",
       "      <th>6</th>\n",
       "      <td>2</td>\n",
       "      <td>10</td>\n",
       "      <td>10</td>\n",
       "      <td>discount</td>\n",
       "      <td>fafdcd668e3743c1bb461111dcafc2a4</td>\n",
       "      <td>1</td>\n",
       "      <td>1</td>\n",
       "      <td>1</td>\n",
       "      <td>1</td>\n",
       "      <td>0</td>\n",
       "      <td>1</td>\n",
       "      <td>0</td>\n",
       "      <td>discount_2_for_10_in_10days</td>\n",
       "    </tr>\n",
       "    <tr>\n",
       "      <th>7</th>\n",
       "      <td>0</td>\n",
       "      <td>0</td>\n",
       "      <td>3</td>\n",
       "      <td>informational</td>\n",
       "      <td>5a8bc65990b245e5a138643cd4eb9837</td>\n",
       "      <td>1</td>\n",
       "      <td>1</td>\n",
       "      <td>1</td>\n",
       "      <td>0</td>\n",
       "      <td>0</td>\n",
       "      <td>0</td>\n",
       "      <td>1</td>\n",
       "      <td>informational_0_for_0_in_3days</td>\n",
       "    </tr>\n",
       "    <tr>\n",
       "      <th>8</th>\n",
       "      <td>5</td>\n",
       "      <td>5</td>\n",
       "      <td>5</td>\n",
       "      <td>bogo</td>\n",
       "      <td>f19421c1d4aa40978ebb69ca19b0e20d</td>\n",
       "      <td>1</td>\n",
       "      <td>1</td>\n",
       "      <td>1</td>\n",
       "      <td>1</td>\n",
       "      <td>1</td>\n",
       "      <td>0</td>\n",
       "      <td>0</td>\n",
       "      <td>bogo_5_for_5_in_5days</td>\n",
       "    </tr>\n",
       "    <tr>\n",
       "      <th>9</th>\n",
       "      <td>2</td>\n",
       "      <td>10</td>\n",
       "      <td>7</td>\n",
       "      <td>discount</td>\n",
       "      <td>2906b810c7d4411798c6938adc9daaa5</td>\n",
       "      <td>1</td>\n",
       "      <td>1</td>\n",
       "      <td>0</td>\n",
       "      <td>1</td>\n",
       "      <td>0</td>\n",
       "      <td>1</td>\n",
       "      <td>0</td>\n",
       "      <td>discount_2_for_10_in_7days</td>\n",
       "    </tr>\n",
       "  </tbody>\n",
       "</table>\n",
       "</div>"
      ],
      "text/plain": [
       "   reward  difficulty  duration     offer_type  \\\n",
       "0      10          10         7           bogo   \n",
       "1      10          10         5           bogo   \n",
       "2       0           0         4  informational   \n",
       "3       5           5         7           bogo   \n",
       "4       5          20        10       discount   \n",
       "5       3           7         7       discount   \n",
       "6       2          10        10       discount   \n",
       "7       0           0         3  informational   \n",
       "8       5           5         5           bogo   \n",
       "9       2          10         7       discount   \n",
       "\n",
       "                           offer_id  email  mobile  social  web  bogo  \\\n",
       "0  ae264e3637204a6fb9bb56bc8210ddfd      1       1       1    0     1   \n",
       "1  4d5c57ea9a6940dd891ad53e9dbe8da0      1       1       1    1     1   \n",
       "2  3f207df678b143eea3cee63160fa8bed      1       1       0    1     0   \n",
       "3  9b98b8c7a33c4b65b9aebfe6a799e6d9      1       1       0    1     1   \n",
       "4  0b1e1539f2cc45b7b9fa7c272da2e1d7      1       0       0    1     0   \n",
       "5  2298d6c36e964ae4a3e7e9706d1fb8c2      1       1       1    1     0   \n",
       "6  fafdcd668e3743c1bb461111dcafc2a4      1       1       1    1     0   \n",
       "7  5a8bc65990b245e5a138643cd4eb9837      1       1       1    0     0   \n",
       "8  f19421c1d4aa40978ebb69ca19b0e20d      1       1       1    1     1   \n",
       "9  2906b810c7d4411798c6938adc9daaa5      1       1       0    1     0   \n",
       "\n",
       "   discount  informational                           offer  \n",
       "0         0              0         bogo_10_for_10_in_7days  \n",
       "1         0              0         bogo_10_for_10_in_5days  \n",
       "2         0              1  informational_0_for_0_in_4days  \n",
       "3         0              0           bogo_5_for_5_in_7days  \n",
       "4         1              0     discount_5_for_20_in_10days  \n",
       "5         1              0       discount_3_for_7_in_7days  \n",
       "6         1              0     discount_2_for_10_in_10days  \n",
       "7         0              1  informational_0_for_0_in_3days  \n",
       "8         0              0           bogo_5_for_5_in_5days  \n",
       "9         1              0      discount_2_for_10_in_7days  "
      ]
     },
     "execution_count": 7,
     "metadata": {},
     "output_type": "execute_result"
    }
   ],
   "source": [
    "portfolio = clean_portfolio()\n",
    "portfolio"
   ]
  },
  {
   "cell_type": "markdown",
   "metadata": {},
   "source": [
    "### (c) Profile data - customer information\n",
    "\n",
    "Next, let's take a look at the demographic customer data. The schema and explanation of each variable according to the assignment details are as follows:\n",
    "\n",
    "**profile.json**\n",
    "* age (int) - age of the customer \n",
    "* became_member_on (int) - date when customer created an app account\n",
    "* gender (str) - gender of the customer (note some entries contain 'O' for other rather than M or F)\n",
    "* id (str) - customer id\n",
    "* income (float) - customer's income"
   ]
  },
  {
   "cell_type": "code",
   "execution_count": 8,
   "metadata": {},
   "outputs": [
    {
     "data": {
      "text/html": [
       "<div>\n",
       "<style scoped>\n",
       "    .dataframe tbody tr th:only-of-type {\n",
       "        vertical-align: middle;\n",
       "    }\n",
       "\n",
       "    .dataframe tbody tr th {\n",
       "        vertical-align: top;\n",
       "    }\n",
       "\n",
       "    .dataframe thead th {\n",
       "        text-align: right;\n",
       "    }\n",
       "</style>\n",
       "<table border=\"1\" class=\"dataframe\">\n",
       "  <thead>\n",
       "    <tr style=\"text-align: right;\">\n",
       "      <th></th>\n",
       "      <th>gender</th>\n",
       "      <th>age</th>\n",
       "      <th>id</th>\n",
       "      <th>became_member_on</th>\n",
       "      <th>income</th>\n",
       "    </tr>\n",
       "  </thead>\n",
       "  <tbody>\n",
       "    <tr>\n",
       "      <th>0</th>\n",
       "      <td>None</td>\n",
       "      <td>118</td>\n",
       "      <td>68be06ca386d4c31939f3a4f0e3dd783</td>\n",
       "      <td>20170212</td>\n",
       "      <td>NaN</td>\n",
       "    </tr>\n",
       "    <tr>\n",
       "      <th>1</th>\n",
       "      <td>F</td>\n",
       "      <td>55</td>\n",
       "      <td>0610b486422d4921ae7d2bf64640c50b</td>\n",
       "      <td>20170715</td>\n",
       "      <td>112000.0</td>\n",
       "    </tr>\n",
       "  </tbody>\n",
       "</table>\n",
       "</div>"
      ],
      "text/plain": [
       "  gender  age                                id  became_member_on    income\n",
       "0   None  118  68be06ca386d4c31939f3a4f0e3dd783          20170212       NaN\n",
       "1      F   55  0610b486422d4921ae7d2bf64640c50b          20170715  112000.0"
      ]
     },
     "execution_count": 8,
     "metadata": {},
     "output_type": "execute_result"
    }
   ],
   "source": [
    "profile.head(2)"
   ]
  },
  {
   "cell_type": "markdown",
   "metadata": {},
   "source": [
    "Again, here is a function to clean the profile data for further analysis:"
   ]
  },
  {
   "cell_type": "code",
   "execution_count": 9,
   "metadata": {},
   "outputs": [],
   "source": [
    "def clean_profile(profile=profile):\n",
    "    '''\n",
    "    cleans the profile dataframe for further analysis\n",
    "    \n",
    "    INPUT:\n",
    "    profile - the dataframe to be cleaned (default: profile)\n",
    "    \n",
    "    OUTPUT:\n",
    "    profile - the cleaned profile dataframe\n",
    "    \n",
    "    ''' \n",
    "    # recode missing values for age\n",
    "    profile['age'] = profile['age'].apply(lambda x: np.nan if x == 118 else x)\n",
    "    \n",
    "    # drop entries with missing profile information\n",
    "    #profile.dropna(inplace=True)\n",
    "    \n",
    "    # calculate membership duration\n",
    "    profile['became_member_on'] = pd.to_datetime(profile['became_member_on'], format='%Y%m%d')\n",
    "    profile['membership_duration'] = datetime.datetime.today().date() - pd.to_datetime(profile['became_member_on'], format='%Y%m%d').dt.date\n",
    "    profile['membership_duration'] = profile['membership_duration'].dt.days\n",
    "    \n",
    "    # rename columns\n",
    "    profile.rename(columns={'id':'person_id'},inplace=True)\n",
    "    \n",
    "    return profile"
   ]
  },
  {
   "cell_type": "code",
   "execution_count": 10,
   "metadata": {},
   "outputs": [
    {
     "data": {
      "text/html": [
       "<div>\n",
       "<style scoped>\n",
       "    .dataframe tbody tr th:only-of-type {\n",
       "        vertical-align: middle;\n",
       "    }\n",
       "\n",
       "    .dataframe tbody tr th {\n",
       "        vertical-align: top;\n",
       "    }\n",
       "\n",
       "    .dataframe thead th {\n",
       "        text-align: right;\n",
       "    }\n",
       "</style>\n",
       "<table border=\"1\" class=\"dataframe\">\n",
       "  <thead>\n",
       "    <tr style=\"text-align: right;\">\n",
       "      <th></th>\n",
       "      <th>gender</th>\n",
       "      <th>age</th>\n",
       "      <th>person_id</th>\n",
       "      <th>became_member_on</th>\n",
       "      <th>income</th>\n",
       "      <th>membership_duration</th>\n",
       "    </tr>\n",
       "  </thead>\n",
       "  <tbody>\n",
       "    <tr>\n",
       "      <th>0</th>\n",
       "      <td>None</td>\n",
       "      <td>NaN</td>\n",
       "      <td>68be06ca386d4c31939f3a4f0e3dd783</td>\n",
       "      <td>2017-02-12</td>\n",
       "      <td>NaN</td>\n",
       "      <td>1501</td>\n",
       "    </tr>\n",
       "    <tr>\n",
       "      <th>1</th>\n",
       "      <td>F</td>\n",
       "      <td>55.0</td>\n",
       "      <td>0610b486422d4921ae7d2bf64640c50b</td>\n",
       "      <td>2017-07-15</td>\n",
       "      <td>112000.0</td>\n",
       "      <td>1348</td>\n",
       "    </tr>\n",
       "    <tr>\n",
       "      <th>2</th>\n",
       "      <td>None</td>\n",
       "      <td>NaN</td>\n",
       "      <td>38fe809add3b4fcf9315a9694bb96ff5</td>\n",
       "      <td>2018-07-12</td>\n",
       "      <td>NaN</td>\n",
       "      <td>986</td>\n",
       "    </tr>\n",
       "    <tr>\n",
       "      <th>3</th>\n",
       "      <td>F</td>\n",
       "      <td>75.0</td>\n",
       "      <td>78afa995795e4d85b5d9ceeca43f5fef</td>\n",
       "      <td>2017-05-09</td>\n",
       "      <td>100000.0</td>\n",
       "      <td>1415</td>\n",
       "    </tr>\n",
       "    <tr>\n",
       "      <th>4</th>\n",
       "      <td>None</td>\n",
       "      <td>NaN</td>\n",
       "      <td>a03223e636434f42ac4c3df47e8bac43</td>\n",
       "      <td>2017-08-04</td>\n",
       "      <td>NaN</td>\n",
       "      <td>1328</td>\n",
       "    </tr>\n",
       "    <tr>\n",
       "      <th>...</th>\n",
       "      <td>...</td>\n",
       "      <td>...</td>\n",
       "      <td>...</td>\n",
       "      <td>...</td>\n",
       "      <td>...</td>\n",
       "      <td>...</td>\n",
       "    </tr>\n",
       "    <tr>\n",
       "      <th>16995</th>\n",
       "      <td>F</td>\n",
       "      <td>45.0</td>\n",
       "      <td>6d5f3a774f3d4714ab0c092238f3a1d7</td>\n",
       "      <td>2018-06-04</td>\n",
       "      <td>54000.0</td>\n",
       "      <td>1024</td>\n",
       "    </tr>\n",
       "    <tr>\n",
       "      <th>16996</th>\n",
       "      <td>M</td>\n",
       "      <td>61.0</td>\n",
       "      <td>2cb4f97358b841b9a9773a7aa05a9d77</td>\n",
       "      <td>2018-07-13</td>\n",
       "      <td>72000.0</td>\n",
       "      <td>985</td>\n",
       "    </tr>\n",
       "    <tr>\n",
       "      <th>16997</th>\n",
       "      <td>M</td>\n",
       "      <td>49.0</td>\n",
       "      <td>01d26f638c274aa0b965d24cefe3183f</td>\n",
       "      <td>2017-01-26</td>\n",
       "      <td>73000.0</td>\n",
       "      <td>1518</td>\n",
       "    </tr>\n",
       "    <tr>\n",
       "      <th>16998</th>\n",
       "      <td>F</td>\n",
       "      <td>83.0</td>\n",
       "      <td>9dc1421481194dcd9400aec7c9ae6366</td>\n",
       "      <td>2016-03-07</td>\n",
       "      <td>50000.0</td>\n",
       "      <td>1843</td>\n",
       "    </tr>\n",
       "    <tr>\n",
       "      <th>16999</th>\n",
       "      <td>F</td>\n",
       "      <td>62.0</td>\n",
       "      <td>e4052622e5ba45a8b96b59aba68cf068</td>\n",
       "      <td>2017-07-22</td>\n",
       "      <td>82000.0</td>\n",
       "      <td>1341</td>\n",
       "    </tr>\n",
       "  </tbody>\n",
       "</table>\n",
       "<p>17000 rows × 6 columns</p>\n",
       "</div>"
      ],
      "text/plain": [
       "      gender   age                         person_id became_member_on  \\\n",
       "0       None   NaN  68be06ca386d4c31939f3a4f0e3dd783       2017-02-12   \n",
       "1          F  55.0  0610b486422d4921ae7d2bf64640c50b       2017-07-15   \n",
       "2       None   NaN  38fe809add3b4fcf9315a9694bb96ff5       2018-07-12   \n",
       "3          F  75.0  78afa995795e4d85b5d9ceeca43f5fef       2017-05-09   \n",
       "4       None   NaN  a03223e636434f42ac4c3df47e8bac43       2017-08-04   \n",
       "...      ...   ...                               ...              ...   \n",
       "16995      F  45.0  6d5f3a774f3d4714ab0c092238f3a1d7       2018-06-04   \n",
       "16996      M  61.0  2cb4f97358b841b9a9773a7aa05a9d77       2018-07-13   \n",
       "16997      M  49.0  01d26f638c274aa0b965d24cefe3183f       2017-01-26   \n",
       "16998      F  83.0  9dc1421481194dcd9400aec7c9ae6366       2016-03-07   \n",
       "16999      F  62.0  e4052622e5ba45a8b96b59aba68cf068       2017-07-22   \n",
       "\n",
       "         income  membership_duration  \n",
       "0           NaN                 1501  \n",
       "1      112000.0                 1348  \n",
       "2           NaN                  986  \n",
       "3      100000.0                 1415  \n",
       "4           NaN                 1328  \n",
       "...         ...                  ...  \n",
       "16995   54000.0                 1024  \n",
       "16996   72000.0                  985  \n",
       "16997   73000.0                 1518  \n",
       "16998   50000.0                 1843  \n",
       "16999   82000.0                 1341  \n",
       "\n",
       "[17000 rows x 6 columns]"
      ]
     },
     "execution_count": 10,
     "metadata": {},
     "output_type": "execute_result"
    }
   ],
   "source": [
    "profile = clean_profile()\n",
    "profile"
   ]
  },
  {
   "cell_type": "code",
   "execution_count": 11,
   "metadata": {},
   "outputs": [
    {
     "data": {
      "text/plain": [
       "gender                 2175\n",
       "age                    2175\n",
       "person_id                 0\n",
       "became_member_on          0\n",
       "income                 2175\n",
       "membership_duration       0\n",
       "dtype: int64"
      ]
     },
     "execution_count": 11,
     "metadata": {},
     "output_type": "execute_result"
    }
   ],
   "source": [
    "profile.isnull().sum()"
   ]
  },
  {
   "cell_type": "markdown",
   "metadata": {},
   "source": [
    "It seems as though there are 2,175 out of 17,000 customers in the data set without information on gender, age and income. As those are not too many, my strategy is to drop those for the machine learning model. Thus, I refrain from implementing an impuation strategy here."
   ]
  },
  {
   "cell_type": "markdown",
   "metadata": {},
   "source": [
    "Before proceeding to the actual event data, let's take a first look at the demographic information we have for our customers:"
   ]
  },
  {
   "cell_type": "code",
   "execution_count": 12,
   "metadata": {},
   "outputs": [
    {
     "data": {
      "text/html": [
       "<div>\n",
       "<style scoped>\n",
       "    .dataframe tbody tr th:only-of-type {\n",
       "        vertical-align: middle;\n",
       "    }\n",
       "\n",
       "    .dataframe tbody tr th {\n",
       "        vertical-align: top;\n",
       "    }\n",
       "\n",
       "    .dataframe thead th {\n",
       "        text-align: right;\n",
       "    }\n",
       "</style>\n",
       "<table border=\"1\" class=\"dataframe\">\n",
       "  <thead>\n",
       "    <tr style=\"text-align: right;\">\n",
       "      <th></th>\n",
       "      <th>age</th>\n",
       "      <th>income</th>\n",
       "      <th>membership_duration</th>\n",
       "    </tr>\n",
       "  </thead>\n",
       "  <tbody>\n",
       "    <tr>\n",
       "      <th>count</th>\n",
       "      <td>14825.000000</td>\n",
       "      <td>14825.000000</td>\n",
       "      <td>17000.000000</td>\n",
       "    </tr>\n",
       "    <tr>\n",
       "      <th>mean</th>\n",
       "      <td>54.393524</td>\n",
       "      <td>65404.991568</td>\n",
       "      <td>1489.449882</td>\n",
       "    </tr>\n",
       "    <tr>\n",
       "      <th>std</th>\n",
       "      <td>17.383705</td>\n",
       "      <td>21598.299410</td>\n",
       "      <td>411.223904</td>\n",
       "    </tr>\n",
       "    <tr>\n",
       "      <th>min</th>\n",
       "      <td>18.000000</td>\n",
       "      <td>30000.000000</td>\n",
       "      <td>972.000000</td>\n",
       "    </tr>\n",
       "    <tr>\n",
       "      <th>25%</th>\n",
       "      <td>42.000000</td>\n",
       "      <td>49000.000000</td>\n",
       "      <td>1180.000000</td>\n",
       "    </tr>\n",
       "    <tr>\n",
       "      <th>50%</th>\n",
       "      <td>55.000000</td>\n",
       "      <td>64000.000000</td>\n",
       "      <td>1330.000000</td>\n",
       "    </tr>\n",
       "    <tr>\n",
       "      <th>75%</th>\n",
       "      <td>66.000000</td>\n",
       "      <td>80000.000000</td>\n",
       "      <td>1763.000000</td>\n",
       "    </tr>\n",
       "    <tr>\n",
       "      <th>max</th>\n",
       "      <td>101.000000</td>\n",
       "      <td>120000.000000</td>\n",
       "      <td>2795.000000</td>\n",
       "    </tr>\n",
       "  </tbody>\n",
       "</table>\n",
       "</div>"
      ],
      "text/plain": [
       "                age         income  membership_duration\n",
       "count  14825.000000   14825.000000         17000.000000\n",
       "mean      54.393524   65404.991568          1489.449882\n",
       "std       17.383705   21598.299410           411.223904\n",
       "min       18.000000   30000.000000           972.000000\n",
       "25%       42.000000   49000.000000          1180.000000\n",
       "50%       55.000000   64000.000000          1330.000000\n",
       "75%       66.000000   80000.000000          1763.000000\n",
       "max      101.000000  120000.000000          2795.000000"
      ]
     },
     "execution_count": 12,
     "metadata": {},
     "output_type": "execute_result"
    }
   ],
   "source": [
    "profile.describe()"
   ]
  },
  {
   "cell_type": "code",
   "execution_count": 13,
   "metadata": {},
   "outputs": [],
   "source": [
    "def plot_demographics(df, variable):\n",
    "    '''\n",
    "    returns a basic histogram and density plot for demographic variables\n",
    "    \n",
    "    INPUT:\n",
    "    df - the dataframe including the variable to be plotted\n",
    "    variable - the variable to be plotted\n",
    "    \n",
    "    OUTPUT:\n",
    "    plot - basic histogram and density plot\n",
    "    \n",
    "    ''' \n",
    "    plot = sns.displot(data=df, x=variable, kde=True, bins=25, aspect=1.5)\n",
    "    plot.set(title='{} distribution'.format(variable))\n",
    "    \n",
    "    return plot"
   ]
  },
  {
   "cell_type": "code",
   "execution_count": 14,
   "metadata": {},
   "outputs": [
    {
     "data": {
      "image/png": "[encoded data removed]",
      "text/plain": [
       "<Figure size 540x360 with 1 Axes>"
      ]
     },
     "metadata": {
      "needs_background": "light"
     },
     "output_type": "display_data"
    }
   ],
   "source": [
    "age_plot = plot_demographics(profile, 'age')"
   ]
  },
  {
   "cell_type": "code",
   "execution_count": 15,
   "metadata": {},
   "outputs": [
    {
     "data": {
      "image/png": "[encoded data removed]",
      "text/plain": [
       "<Figure size 540x360 with 1 Axes>"
      ]
     },
     "metadata": {
      "needs_background": "light"
     },
     "output_type": "display_data"
    }
   ],
   "source": [
    "income_plot = plot_demographics(profile, 'income')"
   ]
  },
  {
   "cell_type": "code",
   "execution_count": 16,
   "metadata": {},
   "outputs": [
    {
     "data": {
      "image/png": "[encoded data removed]",
      "text/plain": [
       "<Figure size 540x360 with 1 Axes>"
      ]
     },
     "metadata": {
      "needs_background": "light"
     },
     "output_type": "display_data"
    }
   ],
   "source": [
    "membership_duration_plot = plot_demographics(profile, 'membership_duration')"
   ]
  },
  {
   "cell_type": "code",
   "execution_count": 17,
   "metadata": {},
   "outputs": [
    {
     "data": {
      "image/png": "[encoded data removed]",
      "text/plain": [
       "<Figure size 540x360 with 1 Axes>"
      ]
     },
     "metadata": {
      "needs_background": "light"
     },
     "output_type": "display_data"
    }
   ],
   "source": [
    "gender_plot = sns.catplot(data=profile, x='gender', kind='count', aspect=1.5)"
   ]
  },
  {
   "cell_type": "markdown",
   "metadata": {},
   "source": [
    "### (c) Transcript data - events\n",
    "\n",
    "Finally, let's take a look at the actual offer and transaction events. The schema and explanation of each variable according to the assignment details are as follows:\n",
    "\n",
    "**transcript.json**\n",
    "* event (str) - record description (ie transaction, offer received, offer viewed, etc.)\n",
    "* person (str) - customer id\n",
    "* time (int) - time in hours since start of test. The data begins at time t=0\n",
    "* value - (dict of strings) - either an offer id or transaction amount depending on the record"
   ]
  },
  {
   "cell_type": "code",
   "execution_count": 18,
   "metadata": {},
   "outputs": [
    {
     "data": {
      "text/html": [
       "<div>\n",
       "<style scoped>\n",
       "    .dataframe tbody tr th:only-of-type {\n",
       "        vertical-align: middle;\n",
       "    }\n",
       "\n",
       "    .dataframe tbody tr th {\n",
       "        vertical-align: top;\n",
       "    }\n",
       "\n",
       "    .dataframe thead th {\n",
       "        text-align: right;\n",
       "    }\n",
       "</style>\n",
       "<table border=\"1\" class=\"dataframe\">\n",
       "  <thead>\n",
       "    <tr style=\"text-align: right;\">\n",
       "      <th></th>\n",
       "      <th>person</th>\n",
       "      <th>event</th>\n",
       "      <th>value</th>\n",
       "      <th>time</th>\n",
       "    </tr>\n",
       "  </thead>\n",
       "  <tbody>\n",
       "    <tr>\n",
       "      <th>0</th>\n",
       "      <td>78afa995795e4d85b5d9ceeca43f5fef</td>\n",
       "      <td>offer received</td>\n",
       "      <td>{'offer id': '9b98b8c7a33c4b65b9aebfe6a799e6d9'}</td>\n",
       "      <td>0</td>\n",
       "    </tr>\n",
       "    <tr>\n",
       "      <th>1</th>\n",
       "      <td>a03223e636434f42ac4c3df47e8bac43</td>\n",
       "      <td>offer received</td>\n",
       "      <td>{'offer id': '0b1e1539f2cc45b7b9fa7c272da2e1d7'}</td>\n",
       "      <td>0</td>\n",
       "    </tr>\n",
       "  </tbody>\n",
       "</table>\n",
       "</div>"
      ],
      "text/plain": [
       "                             person           event  \\\n",
       "0  78afa995795e4d85b5d9ceeca43f5fef  offer received   \n",
       "1  a03223e636434f42ac4c3df47e8bac43  offer received   \n",
       "\n",
       "                                              value  time  \n",
       "0  {'offer id': '9b98b8c7a33c4b65b9aebfe6a799e6d9'}     0  \n",
       "1  {'offer id': '0b1e1539f2cc45b7b9fa7c272da2e1d7'}     0  "
      ]
     },
     "execution_count": 18,
     "metadata": {},
     "output_type": "execute_result"
    }
   ],
   "source": [
    "transcript.head(2)"
   ]
  },
  {
   "cell_type": "code",
   "execution_count": 19,
   "metadata": {},
   "outputs": [],
   "source": [
    "def clean_transcript(transcript=transcript):\n",
    "    '''\n",
    "    cleans the transcript dataframe for further analysis\n",
    "    \n",
    "    INPUT:\n",
    "    transcript - the dataframe to be cleaned (default: transcript)\n",
    "    \n",
    "    OUTPUT:\n",
    "    transcript - the cleaned transcript dataframe\n",
    "    \n",
    "    ''' \n",
    "    # unpack information in 'value' column to separate columns\n",
    "    values = transcript['value'].apply(pd.Series)\n",
    "    values.offer_id.fillna(values['offer id'], inplace=True)\n",
    "    transcript = pd.concat([transcript, values], axis=1)\n",
    "    \n",
    "    # calculate number of offers received per person\n",
    "    num_offers = transcript[transcript['event']=='offer received'].groupby('person').count().reset_index()\n",
    "    num_offers.rename(columns={'offer_id':'num_offers'},inplace=True)\n",
    "    transcript = pd.merge(transcript, num_offers[['person', 'num_offers']], how='left', on='person')\n",
    "    \n",
    "    # drop and rename columns\n",
    "    transcript.drop(['offer id', 'value', 'reward'], axis=1, inplace=True)\n",
    "    transcript.rename(columns={'person':'person_id'},inplace=True)\n",
    "    \n",
    "    return transcript"
   ]
  },
  {
   "cell_type": "code",
   "execution_count": 20,
   "metadata": {},
   "outputs": [
    {
     "data": {
      "text/html": [
       "<div>\n",
       "<style scoped>\n",
       "    .dataframe tbody tr th:only-of-type {\n",
       "        vertical-align: middle;\n",
       "    }\n",
       "\n",
       "    .dataframe tbody tr th {\n",
       "        vertical-align: top;\n",
       "    }\n",
       "\n",
       "    .dataframe thead th {\n",
       "        text-align: right;\n",
       "    }\n",
       "</style>\n",
       "<table border=\"1\" class=\"dataframe\">\n",
       "  <thead>\n",
       "    <tr style=\"text-align: right;\">\n",
       "      <th></th>\n",
       "      <th>person_id</th>\n",
       "      <th>event</th>\n",
       "      <th>time</th>\n",
       "      <th>amount</th>\n",
       "      <th>offer_id</th>\n",
       "      <th>num_offers</th>\n",
       "    </tr>\n",
       "  </thead>\n",
       "  <tbody>\n",
       "    <tr>\n",
       "      <th>0</th>\n",
       "      <td>78afa995795e4d85b5d9ceeca43f5fef</td>\n",
       "      <td>offer received</td>\n",
       "      <td>0</td>\n",
       "      <td>NaN</td>\n",
       "      <td>9b98b8c7a33c4b65b9aebfe6a799e6d9</td>\n",
       "      <td>4.0</td>\n",
       "    </tr>\n",
       "    <tr>\n",
       "      <th>1</th>\n",
       "      <td>a03223e636434f42ac4c3df47e8bac43</td>\n",
       "      <td>offer received</td>\n",
       "      <td>0</td>\n",
       "      <td>NaN</td>\n",
       "      <td>0b1e1539f2cc45b7b9fa7c272da2e1d7</td>\n",
       "      <td>5.0</td>\n",
       "    </tr>\n",
       "    <tr>\n",
       "      <th>2</th>\n",
       "      <td>e2127556f4f64592b11af22de27a7932</td>\n",
       "      <td>offer received</td>\n",
       "      <td>0</td>\n",
       "      <td>NaN</td>\n",
       "      <td>2906b810c7d4411798c6938adc9daaa5</td>\n",
       "      <td>4.0</td>\n",
       "    </tr>\n",
       "    <tr>\n",
       "      <th>3</th>\n",
       "      <td>8ec6ce2a7e7949b1bf142def7d0e0586</td>\n",
       "      <td>offer received</td>\n",
       "      <td>0</td>\n",
       "      <td>NaN</td>\n",
       "      <td>fafdcd668e3743c1bb461111dcafc2a4</td>\n",
       "      <td>5.0</td>\n",
       "    </tr>\n",
       "    <tr>\n",
       "      <th>4</th>\n",
       "      <td>68617ca6246f4fbc85e91a2a49552598</td>\n",
       "      <td>offer received</td>\n",
       "      <td>0</td>\n",
       "      <td>NaN</td>\n",
       "      <td>4d5c57ea9a6940dd891ad53e9dbe8da0</td>\n",
       "      <td>5.0</td>\n",
       "    </tr>\n",
       "    <tr>\n",
       "      <th>...</th>\n",
       "      <td>...</td>\n",
       "      <td>...</td>\n",
       "      <td>...</td>\n",
       "      <td>...</td>\n",
       "      <td>...</td>\n",
       "      <td>...</td>\n",
       "    </tr>\n",
       "    <tr>\n",
       "      <th>306529</th>\n",
       "      <td>b3a1272bc9904337b331bf348c3e8c17</td>\n",
       "      <td>transaction</td>\n",
       "      <td>714</td>\n",
       "      <td>1.59</td>\n",
       "      <td>NaN</td>\n",
       "      <td>3.0</td>\n",
       "    </tr>\n",
       "    <tr>\n",
       "      <th>306530</th>\n",
       "      <td>68213b08d99a4ae1b0dcb72aebd9aa35</td>\n",
       "      <td>transaction</td>\n",
       "      <td>714</td>\n",
       "      <td>9.53</td>\n",
       "      <td>NaN</td>\n",
       "      <td>5.0</td>\n",
       "    </tr>\n",
       "    <tr>\n",
       "      <th>306531</th>\n",
       "      <td>a00058cf10334a308c68e7631c529907</td>\n",
       "      <td>transaction</td>\n",
       "      <td>714</td>\n",
       "      <td>3.61</td>\n",
       "      <td>NaN</td>\n",
       "      <td>5.0</td>\n",
       "    </tr>\n",
       "    <tr>\n",
       "      <th>306532</th>\n",
       "      <td>76ddbd6576844afe811f1a3c0fbb5bec</td>\n",
       "      <td>transaction</td>\n",
       "      <td>714</td>\n",
       "      <td>3.53</td>\n",
       "      <td>NaN</td>\n",
       "      <td>3.0</td>\n",
       "    </tr>\n",
       "    <tr>\n",
       "      <th>306533</th>\n",
       "      <td>c02b10e8752c4d8e9b73f918558531f7</td>\n",
       "      <td>transaction</td>\n",
       "      <td>714</td>\n",
       "      <td>4.05</td>\n",
       "      <td>NaN</td>\n",
       "      <td>4.0</td>\n",
       "    </tr>\n",
       "  </tbody>\n",
       "</table>\n",
       "<p>306534 rows × 6 columns</p>\n",
       "</div>"
      ],
      "text/plain": [
       "                               person_id           event  time  amount  \\\n",
       "0       78afa995795e4d85b5d9ceeca43f5fef  offer received     0     NaN   \n",
       "1       a03223e636434f42ac4c3df47e8bac43  offer received     0     NaN   \n",
       "2       e2127556f4f64592b11af22de27a7932  offer received     0     NaN   \n",
       "3       8ec6ce2a7e7949b1bf142def7d0e0586  offer received     0     NaN   \n",
       "4       68617ca6246f4fbc85e91a2a49552598  offer received     0     NaN   \n",
       "...                                  ...             ...   ...     ...   \n",
       "306529  b3a1272bc9904337b331bf348c3e8c17     transaction   714    1.59   \n",
       "306530  68213b08d99a4ae1b0dcb72aebd9aa35     transaction   714    9.53   \n",
       "306531  a00058cf10334a308c68e7631c529907     transaction   714    3.61   \n",
       "306532  76ddbd6576844afe811f1a3c0fbb5bec     transaction   714    3.53   \n",
       "306533  c02b10e8752c4d8e9b73f918558531f7     transaction   714    4.05   \n",
       "\n",
       "                                offer_id  num_offers  \n",
       "0       9b98b8c7a33c4b65b9aebfe6a799e6d9         4.0  \n",
       "1       0b1e1539f2cc45b7b9fa7c272da2e1d7         5.0  \n",
       "2       2906b810c7d4411798c6938adc9daaa5         4.0  \n",
       "3       fafdcd668e3743c1bb461111dcafc2a4         5.0  \n",
       "4       4d5c57ea9a6940dd891ad53e9dbe8da0         5.0  \n",
       "...                                  ...         ...  \n",
       "306529                               NaN         3.0  \n",
       "306530                               NaN         5.0  \n",
       "306531                               NaN         5.0  \n",
       "306532                               NaN         3.0  \n",
       "306533                               NaN         4.0  \n",
       "\n",
       "[306534 rows x 6 columns]"
      ]
     },
     "execution_count": 20,
     "metadata": {},
     "output_type": "execute_result"
    }
   ],
   "source": [
    "transcript = clean_transcript()\n",
    "transcript"
   ]
  },
  {
   "cell_type": "markdown",
   "metadata": {},
   "source": [
    "To better understand how the event data look like and which factors need to be addressed during the analysis, let's first take a look at one customer:"
   ]
  },
  {
   "cell_type": "code",
   "execution_count": 21,
   "metadata": {},
   "outputs": [
    {
     "data": {
      "text/html": [
       "<div>\n",
       "<style scoped>\n",
       "    .dataframe tbody tr th:only-of-type {\n",
       "        vertical-align: middle;\n",
       "    }\n",
       "\n",
       "    .dataframe tbody tr th {\n",
       "        vertical-align: top;\n",
       "    }\n",
       "\n",
       "    .dataframe thead th {\n",
       "        text-align: right;\n",
       "    }\n",
       "</style>\n",
       "<table border=\"1\" class=\"dataframe\">\n",
       "  <thead>\n",
       "    <tr style=\"text-align: right;\">\n",
       "      <th></th>\n",
       "      <th>person_id</th>\n",
       "      <th>event</th>\n",
       "      <th>time</th>\n",
       "      <th>amount</th>\n",
       "      <th>offer_id</th>\n",
       "      <th>num_offers</th>\n",
       "    </tr>\n",
       "  </thead>\n",
       "  <tbody>\n",
       "    <tr>\n",
       "      <th>0</th>\n",
       "      <td>78afa995795e4d85b5d9ceeca43f5fef</td>\n",
       "      <td>offer received</td>\n",
       "      <td>0</td>\n",
       "      <td>NaN</td>\n",
       "      <td>9b98b8c7a33c4b65b9aebfe6a799e6d9</td>\n",
       "      <td>4.0</td>\n",
       "    </tr>\n",
       "    <tr>\n",
       "      <th>15561</th>\n",
       "      <td>78afa995795e4d85b5d9ceeca43f5fef</td>\n",
       "      <td>offer viewed</td>\n",
       "      <td>6</td>\n",
       "      <td>NaN</td>\n",
       "      <td>9b98b8c7a33c4b65b9aebfe6a799e6d9</td>\n",
       "      <td>4.0</td>\n",
       "    </tr>\n",
       "    <tr>\n",
       "      <th>47582</th>\n",
       "      <td>78afa995795e4d85b5d9ceeca43f5fef</td>\n",
       "      <td>transaction</td>\n",
       "      <td>132</td>\n",
       "      <td>19.89</td>\n",
       "      <td>NaN</td>\n",
       "      <td>4.0</td>\n",
       "    </tr>\n",
       "    <tr>\n",
       "      <th>47583</th>\n",
       "      <td>78afa995795e4d85b5d9ceeca43f5fef</td>\n",
       "      <td>offer completed</td>\n",
       "      <td>132</td>\n",
       "      <td>NaN</td>\n",
       "      <td>9b98b8c7a33c4b65b9aebfe6a799e6d9</td>\n",
       "      <td>4.0</td>\n",
       "    </tr>\n",
       "    <tr>\n",
       "      <th>49502</th>\n",
       "      <td>78afa995795e4d85b5d9ceeca43f5fef</td>\n",
       "      <td>transaction</td>\n",
       "      <td>144</td>\n",
       "      <td>17.78</td>\n",
       "      <td>NaN</td>\n",
       "      <td>4.0</td>\n",
       "    </tr>\n",
       "    <tr>\n",
       "      <th>53176</th>\n",
       "      <td>78afa995795e4d85b5d9ceeca43f5fef</td>\n",
       "      <td>offer received</td>\n",
       "      <td>168</td>\n",
       "      <td>NaN</td>\n",
       "      <td>5a8bc65990b245e5a138643cd4eb9837</td>\n",
       "      <td>4.0</td>\n",
       "    </tr>\n",
       "    <tr>\n",
       "      <th>85291</th>\n",
       "      <td>78afa995795e4d85b5d9ceeca43f5fef</td>\n",
       "      <td>offer viewed</td>\n",
       "      <td>216</td>\n",
       "      <td>NaN</td>\n",
       "      <td>5a8bc65990b245e5a138643cd4eb9837</td>\n",
       "      <td>4.0</td>\n",
       "    </tr>\n",
       "    <tr>\n",
       "      <th>87134</th>\n",
       "      <td>78afa995795e4d85b5d9ceeca43f5fef</td>\n",
       "      <td>transaction</td>\n",
       "      <td>222</td>\n",
       "      <td>19.67</td>\n",
       "      <td>NaN</td>\n",
       "      <td>4.0</td>\n",
       "    </tr>\n",
       "    <tr>\n",
       "      <th>92104</th>\n",
       "      <td>78afa995795e4d85b5d9ceeca43f5fef</td>\n",
       "      <td>transaction</td>\n",
       "      <td>240</td>\n",
       "      <td>29.72</td>\n",
       "      <td>NaN</td>\n",
       "      <td>4.0</td>\n",
       "    </tr>\n",
       "    <tr>\n",
       "      <th>141566</th>\n",
       "      <td>78afa995795e4d85b5d9ceeca43f5fef</td>\n",
       "      <td>transaction</td>\n",
       "      <td>378</td>\n",
       "      <td>23.93</td>\n",
       "      <td>NaN</td>\n",
       "      <td>4.0</td>\n",
       "    </tr>\n",
       "    <tr>\n",
       "      <th>150598</th>\n",
       "      <td>78afa995795e4d85b5d9ceeca43f5fef</td>\n",
       "      <td>offer received</td>\n",
       "      <td>408</td>\n",
       "      <td>NaN</td>\n",
       "      <td>ae264e3637204a6fb9bb56bc8210ddfd</td>\n",
       "      <td>4.0</td>\n",
       "    </tr>\n",
       "    <tr>\n",
       "      <th>163375</th>\n",
       "      <td>78afa995795e4d85b5d9ceeca43f5fef</td>\n",
       "      <td>offer viewed</td>\n",
       "      <td>408</td>\n",
       "      <td>NaN</td>\n",
       "      <td>ae264e3637204a6fb9bb56bc8210ddfd</td>\n",
       "      <td>4.0</td>\n",
       "    </tr>\n",
       "    <tr>\n",
       "      <th>201572</th>\n",
       "      <td>78afa995795e4d85b5d9ceeca43f5fef</td>\n",
       "      <td>offer received</td>\n",
       "      <td>504</td>\n",
       "      <td>NaN</td>\n",
       "      <td>f19421c1d4aa40978ebb69ca19b0e20d</td>\n",
       "      <td>4.0</td>\n",
       "    </tr>\n",
       "    <tr>\n",
       "      <th>218393</th>\n",
       "      <td>78afa995795e4d85b5d9ceeca43f5fef</td>\n",
       "      <td>transaction</td>\n",
       "      <td>510</td>\n",
       "      <td>21.72</td>\n",
       "      <td>NaN</td>\n",
       "      <td>4.0</td>\n",
       "    </tr>\n",
       "    <tr>\n",
       "      <th>218394</th>\n",
       "      <td>78afa995795e4d85b5d9ceeca43f5fef</td>\n",
       "      <td>offer completed</td>\n",
       "      <td>510</td>\n",
       "      <td>NaN</td>\n",
       "      <td>ae264e3637204a6fb9bb56bc8210ddfd</td>\n",
       "      <td>4.0</td>\n",
       "    </tr>\n",
       "    <tr>\n",
       "      <th>218395</th>\n",
       "      <td>78afa995795e4d85b5d9ceeca43f5fef</td>\n",
       "      <td>offer completed</td>\n",
       "      <td>510</td>\n",
       "      <td>NaN</td>\n",
       "      <td>f19421c1d4aa40978ebb69ca19b0e20d</td>\n",
       "      <td>4.0</td>\n",
       "    </tr>\n",
       "    <tr>\n",
       "      <th>230412</th>\n",
       "      <td>78afa995795e4d85b5d9ceeca43f5fef</td>\n",
       "      <td>transaction</td>\n",
       "      <td>534</td>\n",
       "      <td>26.56</td>\n",
       "      <td>NaN</td>\n",
       "      <td>4.0</td>\n",
       "    </tr>\n",
       "    <tr>\n",
       "      <th>262138</th>\n",
       "      <td>78afa995795e4d85b5d9ceeca43f5fef</td>\n",
       "      <td>offer viewed</td>\n",
       "      <td>582</td>\n",
       "      <td>NaN</td>\n",
       "      <td>f19421c1d4aa40978ebb69ca19b0e20d</td>\n",
       "      <td>4.0</td>\n",
       "    </tr>\n",
       "  </tbody>\n",
       "</table>\n",
       "</div>"
      ],
      "text/plain": [
       "                               person_id            event  time  amount  \\\n",
       "0       78afa995795e4d85b5d9ceeca43f5fef   offer received     0     NaN   \n",
       "15561   78afa995795e4d85b5d9ceeca43f5fef     offer viewed     6     NaN   \n",
       "47582   78afa995795e4d85b5d9ceeca43f5fef      transaction   132   19.89   \n",
       "47583   78afa995795e4d85b5d9ceeca43f5fef  offer completed   132     NaN   \n",
       "49502   78afa995795e4d85b5d9ceeca43f5fef      transaction   144   17.78   \n",
       "53176   78afa995795e4d85b5d9ceeca43f5fef   offer received   168     NaN   \n",
       "85291   78afa995795e4d85b5d9ceeca43f5fef     offer viewed   216     NaN   \n",
       "87134   78afa995795e4d85b5d9ceeca43f5fef      transaction   222   19.67   \n",
       "92104   78afa995795e4d85b5d9ceeca43f5fef      transaction   240   29.72   \n",
       "141566  78afa995795e4d85b5d9ceeca43f5fef      transaction   378   23.93   \n",
       "150598  78afa995795e4d85b5d9ceeca43f5fef   offer received   408     NaN   \n",
       "163375  78afa995795e4d85b5d9ceeca43f5fef     offer viewed   408     NaN   \n",
       "201572  78afa995795e4d85b5d9ceeca43f5fef   offer received   504     NaN   \n",
       "218393  78afa995795e4d85b5d9ceeca43f5fef      transaction   510   21.72   \n",
       "218394  78afa995795e4d85b5d9ceeca43f5fef  offer completed   510     NaN   \n",
       "218395  78afa995795e4d85b5d9ceeca43f5fef  offer completed   510     NaN   \n",
       "230412  78afa995795e4d85b5d9ceeca43f5fef      transaction   534   26.56   \n",
       "262138  78afa995795e4d85b5d9ceeca43f5fef     offer viewed   582     NaN   \n",
       "\n",
       "                                offer_id  num_offers  \n",
       "0       9b98b8c7a33c4b65b9aebfe6a799e6d9         4.0  \n",
       "15561   9b98b8c7a33c4b65b9aebfe6a799e6d9         4.0  \n",
       "47582                                NaN         4.0  \n",
       "47583   9b98b8c7a33c4b65b9aebfe6a799e6d9         4.0  \n",
       "49502                                NaN         4.0  \n",
       "53176   5a8bc65990b245e5a138643cd4eb9837         4.0  \n",
       "85291   5a8bc65990b245e5a138643cd4eb9837         4.0  \n",
       "87134                                NaN         4.0  \n",
       "92104                                NaN         4.0  \n",
       "141566                               NaN         4.0  \n",
       "150598  ae264e3637204a6fb9bb56bc8210ddfd         4.0  \n",
       "163375  ae264e3637204a6fb9bb56bc8210ddfd         4.0  \n",
       "201572  f19421c1d4aa40978ebb69ca19b0e20d         4.0  \n",
       "218393                               NaN         4.0  \n",
       "218394  ae264e3637204a6fb9bb56bc8210ddfd         4.0  \n",
       "218395  f19421c1d4aa40978ebb69ca19b0e20d         4.0  \n",
       "230412                               NaN         4.0  \n",
       "262138  f19421c1d4aa40978ebb69ca19b0e20d         4.0  "
      ]
     },
     "execution_count": 21,
     "metadata": {},
     "output_type": "execute_result"
    }
   ],
   "source": [
    "transcript[transcript['person_id']=='78afa995795e4d85b5d9ceeca43f5fef']"
   ]
  },
  {
   "cell_type": "markdown",
   "metadata": {},
   "source": [
    "Looking at this subset of the transcript data for one customer, the following details become clear:\n",
    "\n",
    "* A customer receives different offers over the course of the experiment; some overlap (see rows 150598 and 201572: the customer receives a second offer with the first one still valid)\n",
    "* It can happen that an offer is completed without a customer having viewed the offer (see rows 218395 and 262138: the customer has already completed the offer before viewing it)\n",
    "\n",
    "Those things need to be factored in when defining my outcome variable, 'offer success'."
   ]
  },
  {
   "cell_type": "code",
   "execution_count": 22,
   "metadata": {},
   "outputs": [
    {
     "data": {
      "text/plain": [
       "offer_type     event          \n",
       "bogo           offer completed    15669\n",
       "               offer received     30499\n",
       "               offer viewed       25449\n",
       "discount       offer completed    17910\n",
       "               offer received     30543\n",
       "               offer viewed       21445\n",
       "informational  offer received     15235\n",
       "               offer viewed       10831\n",
       "Name: person_id, dtype: int64"
      ]
     },
     "execution_count": 22,
     "metadata": {},
     "output_type": "execute_result"
    }
   ],
   "source": [
    "combined = pd.merge(transcript, portfolio, how='left', on='offer_id')\n",
    "combined.groupby(['offer_type', 'event']).person_id.count()"
   ]
  },
  {
   "cell_type": "code",
   "execution_count": 23,
   "metadata": {},
   "outputs": [
    {
     "data": {
      "image/png": "[encoded data removed]",
      "text/plain": [
       "<Figure size 655.375x360 with 1 Axes>"
      ]
     },
     "metadata": {
      "needs_background": "light"
     },
     "output_type": "display_data"
    }
   ],
   "source": [
    "events_by_offer_type = sns.catplot(data=combined[combined['event']!='transaction'], x='offer_type',\n",
    "                                   kind='count', hue='event', aspect=1.5)"
   ]
  },
  {
   "cell_type": "markdown",
   "metadata": {},
   "source": [
    "As can be seen in the graph, there are roughly 30,000 BOGO and discount offers sent. Not all of them are viewed by customers, and again a smaller subset of those is completed.\n",
    "\n",
    "What also becomes evident from the graph is that the informational offers need to be treated differently from the BOGO and dicsount offers, as there is no immediate measure for offer completion present in the data."
   ]
  },
  {
   "cell_type": "markdown",
   "metadata": {},
   "source": [
    "## 3. Predicting Offer Success\n",
    "\n",
    "Having done some basic data exploration and cleaning to get a better understanding of the data, my next goal is to build a simple machine learning model to predict offer success based on the offer and customer characteristics.\n",
    "\n",
    "To do this, it is necessary to define which outcomes in the data can be classified as success cases. As BOGO and discount offers have 'offer completed' events while informational offers have not, I investigate the two offer types separately, starting out with BOGO and discount offers.\n",
    "\n",
    "### (a) BOGO and Discount Offers\n",
    "\n",
    "In general, possible event paths for BOGO and discount offers are:\n",
    "\n",
    "1. **successful offer**: offer received &rarr; offer viewed &rarr; transaction(s) &rarr; offer completed\n",
    "2. **ineffective offer**: offer received &rarr; offer viewed\n",
    "3. **unviewed offer**: offer received\n",
    "4. **unviewed success**: offer received &rarr; transaction(s) &rarr; offer completed\n",
    "\n",
    "While **successful offer** is the path that reflects that an offer was successfully completed after viewing it (i.e., the desirable outcome), both  **ineffective offer** and **unviewed offer** reflect that the offer was not successful, i.e., did not lead to transactions by the customer (or to insufficient transactions). However, it is important to keep in mind that  there can also be **unviewed success** cases, meaning that the customer has not viewed the offer, but completed it anyways, i.e., that the customer made transactions regardless of the offer.\n",
    "\n",
    "Thus, it would be interesting to see how different customer groups show these behaviors in response to the offers: ideally, Starbucks might want to target those customer groups that exhibit event path 1, while not targeting those that are most likely to follow paths 2 and 3 (because those are not going to make transactions) or 4 (because those make transactions anyways, so Starbucks would actually lose money by giving them discounts or BOGO offers)."
   ]
  },
  {
   "cell_type": "markdown",
   "metadata": {},
   "source": [
    "#### Data preparation\n",
    "\n",
    "To prepare the event data for analysis based on the thoughts above, I create separate data sets for the different types of offers:"
   ]
  },
  {
   "cell_type": "code",
   "execution_count": 24,
   "metadata": {},
   "outputs": [],
   "source": [
    "bogo = combined[combined['offer_type']=='bogo']\n",
    "discount = combined[combined['offer_type']=='discount']"
   ]
  },
  {
   "cell_type": "markdown",
   "metadata": {},
   "source": [
    "Now, I have to transform the data sets to include my outcome variables:"
   ]
  },
  {
   "cell_type": "code",
   "execution_count": 25,
   "metadata": {},
   "outputs": [],
   "source": [
    "def prepare_offer_data_completion(df):\n",
    "    '''\n",
    "    cleans dataframe for further analysis based on offer completion\n",
    "    \n",
    "    INPUT:\n",
    "    df - the dataframe to be cleaned\n",
    "    \n",
    "    OUTPUT:\n",
    "    combined - the cleaned dataframe\n",
    "    \n",
    "    ''' \n",
    "    pd.options.mode.chained_assignment = None\n",
    "    \n",
    "    # identify success cases in 'offer completed' rows\n",
    "    offers_completed = df[['person_id', 'event', 'time', 'offer_id', 'num_offers']].sort_values(['person_id','time'])\n",
    "    offers_completed = offers_completed[(offers_completed['event']=='offer viewed') | (offers_completed['event']=='offer completed')]\n",
    "    offers_completed['pre_offer_id'] = offers_completed.groupby(['person_id', 'offer_id'])['offer_id'].shift()\n",
    "    offers_completed['success'] = np.where((offers_completed['event'] == 'offer completed')\n",
    "                                           & (offers_completed['pre_offer_id'] == offers_completed['offer_id']),\n",
    "                                           1, 0)\n",
    "    offers_completed['unviewed_success'] = np.where((offers_completed['event'] == 'offer completed')\n",
    "                                                    & (offers_completed['pre_offer_id'].isna()),\n",
    "                                                    1, 0)\n",
    "    offers_completed.drop(['pre_offer_id'], axis=1, inplace=True)\n",
    "    \n",
    "    # re-include 'offer received' rows\n",
    "    received_offers = df[['person_id', 'event', 'time', 'offer_id', 'num_offers']][df['event']=='offer received'].sort_values(['person_id','time'])\n",
    "    \n",
    "    together = received_offers.append(offers_completed).sort_values(['person_id','time'])\n",
    "    together = together.sort_values(['person_id','time'])\n",
    "    \n",
    "    # transmit information from 'offer completed' to corresponding 'offer received' rows\n",
    "    successes = together[(together['event']=='offer received') | (together['event']=='offer completed')]\n",
    "    successes['success'] = successes.groupby(['person_id', 'offer_id'])['success'].bfill()\n",
    "    successes['unviewed_success'] = successes.groupby(['person_id', 'offer_id'])['unviewed_success'].bfill()\n",
    "    result = successes[successes['event']=='offer received']\n",
    "    \n",
    "    # classify remaining offers as failures and fill missings\n",
    "    result['failure'] = np.where((result['success'].isna()) & (result['unviewed_success'].isna()), 1, 0)\n",
    "    result['success'] = np.where(result['success'].isna(), 0, result['success'])\n",
    "    result['success'] = result['success'].astype('int')\n",
    "    result['unviewed_success'] = np.where(result['unviewed_success'].isna(), 0, result['unviewed_success'])\n",
    "    result['unviewed_success'] = result['unviewed_success'].astype('int')\n",
    "    \n",
    "    # build categorical outcome column\n",
    "    result['outcome'] = np.where(result['success'] == 1, 'success',\n",
    "                                 np.where(result['unviewed_success'] == 1, 'unviewed success', 'failure'))\n",
    "\n",
    "    outcome_map = {'failure': 0, 'unviewed success': 1, 'success': 2}\n",
    "    result['outcome_factor'] = result['outcome'].map(outcome_map)\n",
    "    \n",
    "    # add customer and offer information\n",
    "    combined = pd.merge(result, portfolio, how='left', on='offer_id')\n",
    "    combined = pd.merge(combined, profile, how='left', on='person_id')\n",
    "    combined.drop(['event', 'discount', 'informational', 'became_member_on'], axis=1, inplace=True)\n",
    "    \n",
    "    pd.options.mode.chained_assignment = \"warn\"\n",
    "    \n",
    "    return combined\n",
    "    "
   ]
  },
  {
   "cell_type": "code",
   "execution_count": 26,
   "metadata": {},
   "outputs": [
    {
     "data": {
      "text/html": [
       "<div>\n",
       "<style scoped>\n",
       "    .dataframe tbody tr th:only-of-type {\n",
       "        vertical-align: middle;\n",
       "    }\n",
       "\n",
       "    .dataframe tbody tr th {\n",
       "        vertical-align: top;\n",
       "    }\n",
       "\n",
       "    .dataframe thead th {\n",
       "        text-align: right;\n",
       "    }\n",
       "</style>\n",
       "<table border=\"1\" class=\"dataframe\">\n",
       "  <thead>\n",
       "    <tr style=\"text-align: right;\">\n",
       "      <th></th>\n",
       "      <th>person_id</th>\n",
       "      <th>time</th>\n",
       "      <th>offer_id</th>\n",
       "      <th>num_offers</th>\n",
       "      <th>success</th>\n",
       "      <th>unviewed_success</th>\n",
       "      <th>failure</th>\n",
       "      <th>outcome</th>\n",
       "      <th>outcome_factor</th>\n",
       "      <th>reward</th>\n",
       "      <th>...</th>\n",
       "      <th>email</th>\n",
       "      <th>mobile</th>\n",
       "      <th>social</th>\n",
       "      <th>web</th>\n",
       "      <th>bogo</th>\n",
       "      <th>offer</th>\n",
       "      <th>gender</th>\n",
       "      <th>age</th>\n",
       "      <th>income</th>\n",
       "      <th>membership_duration</th>\n",
       "    </tr>\n",
       "  </thead>\n",
       "  <tbody>\n",
       "    <tr>\n",
       "      <th>0</th>\n",
       "      <td>0009655768c64bdeb2e877511632db8f</td>\n",
       "      <td>408</td>\n",
       "      <td>f19421c1d4aa40978ebb69ca19b0e20d</td>\n",
       "      <td>5.0</td>\n",
       "      <td>0</td>\n",
       "      <td>1</td>\n",
       "      <td>0</td>\n",
       "      <td>unviewed success</td>\n",
       "      <td>1</td>\n",
       "      <td>5</td>\n",
       "      <td>...</td>\n",
       "      <td>1</td>\n",
       "      <td>1</td>\n",
       "      <td>1</td>\n",
       "      <td>1</td>\n",
       "      <td>1</td>\n",
       "      <td>bogo_5_for_5_in_5days</td>\n",
       "      <td>M</td>\n",
       "      <td>33.0</td>\n",
       "      <td>72000.0</td>\n",
       "      <td>1433</td>\n",
       "    </tr>\n",
       "    <tr>\n",
       "      <th>1</th>\n",
       "      <td>00116118485d4dfda04fdbaba9a87b5c</td>\n",
       "      <td>168</td>\n",
       "      <td>f19421c1d4aa40978ebb69ca19b0e20d</td>\n",
       "      <td>2.0</td>\n",
       "      <td>0</td>\n",
       "      <td>0</td>\n",
       "      <td>1</td>\n",
       "      <td>failure</td>\n",
       "      <td>0</td>\n",
       "      <td>5</td>\n",
       "      <td>...</td>\n",
       "      <td>1</td>\n",
       "      <td>1</td>\n",
       "      <td>1</td>\n",
       "      <td>1</td>\n",
       "      <td>1</td>\n",
       "      <td>bogo_5_for_5_in_5days</td>\n",
       "      <td>None</td>\n",
       "      <td>NaN</td>\n",
       "      <td>NaN</td>\n",
       "      <td>1064</td>\n",
       "    </tr>\n",
       "    <tr>\n",
       "      <th>2</th>\n",
       "      <td>00116118485d4dfda04fdbaba9a87b5c</td>\n",
       "      <td>576</td>\n",
       "      <td>f19421c1d4aa40978ebb69ca19b0e20d</td>\n",
       "      <td>2.0</td>\n",
       "      <td>0</td>\n",
       "      <td>0</td>\n",
       "      <td>1</td>\n",
       "      <td>failure</td>\n",
       "      <td>0</td>\n",
       "      <td>5</td>\n",
       "      <td>...</td>\n",
       "      <td>1</td>\n",
       "      <td>1</td>\n",
       "      <td>1</td>\n",
       "      <td>1</td>\n",
       "      <td>1</td>\n",
       "      <td>bogo_5_for_5_in_5days</td>\n",
       "      <td>None</td>\n",
       "      <td>NaN</td>\n",
       "      <td>NaN</td>\n",
       "      <td>1064</td>\n",
       "    </tr>\n",
       "    <tr>\n",
       "      <th>3</th>\n",
       "      <td>0011e0d4e6b944f998e987f904e8c1e5</td>\n",
       "      <td>504</td>\n",
       "      <td>9b98b8c7a33c4b65b9aebfe6a799e6d9</td>\n",
       "      <td>5.0</td>\n",
       "      <td>1</td>\n",
       "      <td>0</td>\n",
       "      <td>0</td>\n",
       "      <td>success</td>\n",
       "      <td>2</td>\n",
       "      <td>5</td>\n",
       "      <td>...</td>\n",
       "      <td>1</td>\n",
       "      <td>1</td>\n",
       "      <td>0</td>\n",
       "      <td>1</td>\n",
       "      <td>1</td>\n",
       "      <td>bogo_5_for_5_in_7days</td>\n",
       "      <td>O</td>\n",
       "      <td>40.0</td>\n",
       "      <td>57000.0</td>\n",
       "      <td>1170</td>\n",
       "    </tr>\n",
       "    <tr>\n",
       "      <th>4</th>\n",
       "      <td>0020c2b971eb4e9188eac86d93036a77</td>\n",
       "      <td>168</td>\n",
       "      <td>ae264e3637204a6fb9bb56bc8210ddfd</td>\n",
       "      <td>5.0</td>\n",
       "      <td>0</td>\n",
       "      <td>0</td>\n",
       "      <td>1</td>\n",
       "      <td>failure</td>\n",
       "      <td>0</td>\n",
       "      <td>10</td>\n",
       "      <td>...</td>\n",
       "      <td>1</td>\n",
       "      <td>1</td>\n",
       "      <td>1</td>\n",
       "      <td>0</td>\n",
       "      <td>1</td>\n",
       "      <td>bogo_10_for_10_in_7days</td>\n",
       "      <td>F</td>\n",
       "      <td>59.0</td>\n",
       "      <td>90000.0</td>\n",
       "      <td>1846</td>\n",
       "    </tr>\n",
       "    <tr>\n",
       "      <th>5</th>\n",
       "      <td>0020c2b971eb4e9188eac86d93036a77</td>\n",
       "      <td>408</td>\n",
       "      <td>4d5c57ea9a6940dd891ad53e9dbe8da0</td>\n",
       "      <td>5.0</td>\n",
       "      <td>1</td>\n",
       "      <td>0</td>\n",
       "      <td>0</td>\n",
       "      <td>success</td>\n",
       "      <td>2</td>\n",
       "      <td>10</td>\n",
       "      <td>...</td>\n",
       "      <td>1</td>\n",
       "      <td>1</td>\n",
       "      <td>1</td>\n",
       "      <td>1</td>\n",
       "      <td>1</td>\n",
       "      <td>bogo_10_for_10_in_5days</td>\n",
       "      <td>F</td>\n",
       "      <td>59.0</td>\n",
       "      <td>90000.0</td>\n",
       "      <td>1846</td>\n",
       "    </tr>\n",
       "    <tr>\n",
       "      <th>6</th>\n",
       "      <td>0020ccbbb6d84e358d3414a3ff76cffd</td>\n",
       "      <td>336</td>\n",
       "      <td>f19421c1d4aa40978ebb69ca19b0e20d</td>\n",
       "      <td>4.0</td>\n",
       "      <td>1</td>\n",
       "      <td>0</td>\n",
       "      <td>0</td>\n",
       "      <td>success</td>\n",
       "      <td>2</td>\n",
       "      <td>5</td>\n",
       "      <td>...</td>\n",
       "      <td>1</td>\n",
       "      <td>1</td>\n",
       "      <td>1</td>\n",
       "      <td>1</td>\n",
       "      <td>1</td>\n",
       "      <td>bogo_5_for_5_in_5days</td>\n",
       "      <td>F</td>\n",
       "      <td>24.0</td>\n",
       "      <td>60000.0</td>\n",
       "      <td>1594</td>\n",
       "    </tr>\n",
       "    <tr>\n",
       "      <th>7</th>\n",
       "      <td>0020ccbbb6d84e358d3414a3ff76cffd</td>\n",
       "      <td>504</td>\n",
       "      <td>9b98b8c7a33c4b65b9aebfe6a799e6d9</td>\n",
       "      <td>4.0</td>\n",
       "      <td>1</td>\n",
       "      <td>0</td>\n",
       "      <td>0</td>\n",
       "      <td>success</td>\n",
       "      <td>2</td>\n",
       "      <td>5</td>\n",
       "      <td>...</td>\n",
       "      <td>1</td>\n",
       "      <td>1</td>\n",
       "      <td>0</td>\n",
       "      <td>1</td>\n",
       "      <td>1</td>\n",
       "      <td>bogo_5_for_5_in_7days</td>\n",
       "      <td>F</td>\n",
       "      <td>24.0</td>\n",
       "      <td>60000.0</td>\n",
       "      <td>1594</td>\n",
       "    </tr>\n",
       "    <tr>\n",
       "      <th>8</th>\n",
       "      <td>004b041fbfe44859945daa2c7f79ee64</td>\n",
       "      <td>504</td>\n",
       "      <td>f19421c1d4aa40978ebb69ca19b0e20d</td>\n",
       "      <td>3.0</td>\n",
       "      <td>1</td>\n",
       "      <td>0</td>\n",
       "      <td>0</td>\n",
       "      <td>success</td>\n",
       "      <td>2</td>\n",
       "      <td>5</td>\n",
       "      <td>...</td>\n",
       "      <td>1</td>\n",
       "      <td>1</td>\n",
       "      <td>1</td>\n",
       "      <td>1</td>\n",
       "      <td>1</td>\n",
       "      <td>bogo_5_for_5_in_5days</td>\n",
       "      <td>F</td>\n",
       "      <td>55.0</td>\n",
       "      <td>74000.0</td>\n",
       "      <td>1051</td>\n",
       "    </tr>\n",
       "    <tr>\n",
       "      <th>9</th>\n",
       "      <td>004c5799adbf42868b9cff0396190900</td>\n",
       "      <td>336</td>\n",
       "      <td>ae264e3637204a6fb9bb56bc8210ddfd</td>\n",
       "      <td>5.0</td>\n",
       "      <td>0</td>\n",
       "      <td>1</td>\n",
       "      <td>0</td>\n",
       "      <td>unviewed success</td>\n",
       "      <td>1</td>\n",
       "      <td>10</td>\n",
       "      <td>...</td>\n",
       "      <td>1</td>\n",
       "      <td>1</td>\n",
       "      <td>1</td>\n",
       "      <td>0</td>\n",
       "      <td>1</td>\n",
       "      <td>bogo_10_for_10_in_7days</td>\n",
       "      <td>M</td>\n",
       "      <td>54.0</td>\n",
       "      <td>99000.0</td>\n",
       "      <td>1819</td>\n",
       "    </tr>\n",
       "  </tbody>\n",
       "</table>\n",
       "<p>10 rows × 23 columns</p>\n",
       "</div>"
      ],
      "text/plain": [
       "                          person_id  time                          offer_id  \\\n",
       "0  0009655768c64bdeb2e877511632db8f   408  f19421c1d4aa40978ebb69ca19b0e20d   \n",
       "1  00116118485d4dfda04fdbaba9a87b5c   168  f19421c1d4aa40978ebb69ca19b0e20d   \n",
       "2  00116118485d4dfda04fdbaba9a87b5c   576  f19421c1d4aa40978ebb69ca19b0e20d   \n",
       "3  0011e0d4e6b944f998e987f904e8c1e5   504  9b98b8c7a33c4b65b9aebfe6a799e6d9   \n",
       "4  0020c2b971eb4e9188eac86d93036a77   168  ae264e3637204a6fb9bb56bc8210ddfd   \n",
       "5  0020c2b971eb4e9188eac86d93036a77   408  4d5c57ea9a6940dd891ad53e9dbe8da0   \n",
       "6  0020ccbbb6d84e358d3414a3ff76cffd   336  f19421c1d4aa40978ebb69ca19b0e20d   \n",
       "7  0020ccbbb6d84e358d3414a3ff76cffd   504  9b98b8c7a33c4b65b9aebfe6a799e6d9   \n",
       "8  004b041fbfe44859945daa2c7f79ee64   504  f19421c1d4aa40978ebb69ca19b0e20d   \n",
       "9  004c5799adbf42868b9cff0396190900   336  ae264e3637204a6fb9bb56bc8210ddfd   \n",
       "\n",
       "   num_offers  success  unviewed_success  failure           outcome  \\\n",
       "0         5.0        0                 1        0  unviewed success   \n",
       "1         2.0        0                 0        1           failure   \n",
       "2         2.0        0                 0        1           failure   \n",
       "3         5.0        1                 0        0           success   \n",
       "4         5.0        0                 0        1           failure   \n",
       "5         5.0        1                 0        0           success   \n",
       "6         4.0        1                 0        0           success   \n",
       "7         4.0        1                 0        0           success   \n",
       "8         3.0        1                 0        0           success   \n",
       "9         5.0        0                 1        0  unviewed success   \n",
       "\n",
       "   outcome_factor  reward  ...  email  mobile social  web  bogo  \\\n",
       "0               1       5  ...      1       1      1    1     1   \n",
       "1               0       5  ...      1       1      1    1     1   \n",
       "2               0       5  ...      1       1      1    1     1   \n",
       "3               2       5  ...      1       1      0    1     1   \n",
       "4               0      10  ...      1       1      1    0     1   \n",
       "5               2      10  ...      1       1      1    1     1   \n",
       "6               2       5  ...      1       1      1    1     1   \n",
       "7               2       5  ...      1       1      0    1     1   \n",
       "8               2       5  ...      1       1      1    1     1   \n",
       "9               1      10  ...      1       1      1    0     1   \n",
       "\n",
       "                     offer  gender   age   income membership_duration  \n",
       "0    bogo_5_for_5_in_5days       M  33.0  72000.0                1433  \n",
       "1    bogo_5_for_5_in_5days    None   NaN      NaN                1064  \n",
       "2    bogo_5_for_5_in_5days    None   NaN      NaN                1064  \n",
       "3    bogo_5_for_5_in_7days       O  40.0  57000.0                1170  \n",
       "4  bogo_10_for_10_in_7days       F  59.0  90000.0                1846  \n",
       "5  bogo_10_for_10_in_5days       F  59.0  90000.0                1846  \n",
       "6    bogo_5_for_5_in_5days       F  24.0  60000.0                1594  \n",
       "7    bogo_5_for_5_in_7days       F  24.0  60000.0                1594  \n",
       "8    bogo_5_for_5_in_5days       F  55.0  74000.0                1051  \n",
       "9  bogo_10_for_10_in_7days       M  54.0  99000.0                1819  \n",
       "\n",
       "[10 rows x 23 columns]"
      ]
     },
     "execution_count": 26,
     "metadata": {},
     "output_type": "execute_result"
    }
   ],
   "source": [
    "bogo_cleaned = prepare_offer_data_completion(bogo)\n",
    "discount_cleaned = prepare_offer_data_completion(discount)\n",
    "bogo_discount = bogo_cleaned.append(discount_cleaned)\n",
    "bogo_discount.head(10)"
   ]
  },
  {
   "cell_type": "markdown",
   "metadata": {},
   "source": [
    "#### Model Estimation\n",
    "\n",
    "Now that the data sets are prepared, my goal is to build a model that predicts offer outcome based on the demographic and offer information available in the data. Ideally, this model can be used to further refine offers and target them at new customers in the future.\n",
    "\n",
    "To this end, I build a simple classification model using a Random Forest Classification algorithm. The model function below also reports basic evaluation metrics for the model built:"
   ]
  },
  {
   "cell_type": "code",
   "execution_count": 27,
   "metadata": {},
   "outputs": [],
   "source": [
    "def build_classification_model(df, target, target_names, model=RandomForestClassifier(max_depth=20, random_state=42)):\n",
    "    '''\n",
    "    builds classification model\n",
    "    \n",
    "    INPUT:\n",
    "    df - the dataframe to be analyzed\n",
    "    target - the outcome variable\n",
    "    target_names - labels for the target values\n",
    "    model - the model (default: random forest classification with max tree depth of 20, random state of 42)\n",
    "    \n",
    "    OUTPUT:\n",
    "    model - the classification model\n",
    "    \n",
    "    '''\n",
    "    df = df.dropna(how='any', axis=0)\n",
    "    \n",
    "    gender = pd.get_dummies(df.gender)\n",
    "    df = pd.concat([df, gender], axis=1)\n",
    "    \n",
    "    X = df.drop(columns=['person_id', 'offer_id', 'time', 'offer_type', 'gender', 'offer',\n",
    "                         'success', 'unviewed_success', 'failure', 'outcome', 'outcome_factor'])\n",
    "    y = df.pop(target)\n",
    "    \n",
    "    X_train, X_test, y_train, y_test = train_test_split(X, y, test_size = 0.3, random_state=42)\n",
    "    \n",
    "    model = model\n",
    "\n",
    "    model.fit(X_train, y_train)\n",
    "    \n",
    "    conf_matrix = plot_confusion_matrix(model, X_test, y_test, display_labels=target_names,\n",
    "                                        cmap=plt.cm.Blues, normalize=None)\n",
    "    conf_matrix.ax_.set_title('Confusion matrix')\n",
    "    \n",
    "    model_predictions = model.predict(X_test)\n",
    "    print(classification_report(y_test, model_predictions, target_names=target_names))\n",
    "    \n",
    "    print(\"Overall model accuracy:\\t {}\".format(accuracy_score(y_test, model_predictions)))\n",
    "    \n",
    "    train_probs = model.predict_proba(X_train)\n",
    "    model_probs = model.predict_proba(X_test)\n",
    "    print(\"Train ROC AUC score:\\t {}\".format(roc_auc_score(y_train, train_probs[:, 1])))\n",
    "    print(\"Test ROC AUC score:\\t {}\".format(roc_auc_score(y_test, model_probs[:, 1])))\n",
    "    \n",
    "    feat_imp = pd.DataFrame(model.feature_importances_, index=X_train.columns,\n",
    "                            columns=['importance']).sort_values('importance', ascending=False)\n",
    "    \n",
    "    plot = sns.catplot(data=feat_imp.reset_index(), y='index', x='importance', kind='bar', aspect=2)\n",
    "    plot.set(title='Feature importance')\n",
    "    \n",
    "    return model"
   ]
  },
  {
   "cell_type": "code",
   "execution_count": 28,
   "metadata": {},
   "outputs": [
    {
     "name": "stdout",
     "output_type": "stream",
     "text": [
      "              precision    recall  f1-score   support\n",
      "\n",
      "     failure       0.72      0.73      0.73      8424\n",
      "     success       0.69      0.69      0.69      7537\n",
      "\n",
      "    accuracy                           0.71     15961\n",
      "   macro avg       0.71      0.71      0.71     15961\n",
      "weighted avg       0.71      0.71      0.71     15961\n",
      "\n",
      "Overall model accuracy:\t 0.7099805776580415\n",
      "Train ROC AUC score:\t 0.9968637627799276\n",
      "Test ROC AUC score:\t 0.7730306288281388\n"
     ]
    },
    {
     "data": {
      "image/png": "[encoded data removed]",
      "text/plain": [
       "<Figure size 432x288 with 2 Axes>"
      ]
     },
     "metadata": {
      "needs_background": "light"
     },
     "output_type": "display_data"
    },
    {
     "data": {
      "image/png": "[encoded data removed]",
      "text/plain": [
       "<Figure size 720x360 with 1 Axes>"
      ]
     },
     "metadata": {
      "needs_background": "light"
     },
     "output_type": "display_data"
    }
   ],
   "source": [
    "bogo_discount_model = build_classification_model(bogo_discount, 'success', ['failure', 'success'])"
   ]
  },
  {
   "cell_type": "markdown",
   "metadata": {},
   "source": [
    "The model does not perform that well. Thus, I try to improve model performance in the next section before taking a closer look at the most important features for predicting offer success."
   ]
  },
  {
   "cell_type": "markdown",
   "metadata": {},
   "source": [
    "#### Improving Model Performance\n",
    "\n",
    "To improve performance of the Random Forest Classifier model, I use randomized search to find better model parameters.\n",
    "\n",
    "First, let's see which parameters are currently being used:"
   ]
  },
  {
   "cell_type": "code",
   "execution_count": 29,
   "metadata": {},
   "outputs": [
    {
     "data": {
      "text/plain": [
       "{'bootstrap': True,\n",
       " 'ccp_alpha': 0.0,\n",
       " 'class_weight': None,\n",
       " 'criterion': 'gini',\n",
       " 'max_depth': 20,\n",
       " 'max_features': 'auto',\n",
       " 'max_leaf_nodes': None,\n",
       " 'max_samples': None,\n",
       " 'min_impurity_decrease': 0.0,\n",
       " 'min_impurity_split': None,\n",
       " 'min_samples_leaf': 1,\n",
       " 'min_samples_split': 2,\n",
       " 'min_weight_fraction_leaf': 0.0,\n",
       " 'n_estimators': 100,\n",
       " 'n_jobs': None,\n",
       " 'oob_score': False,\n",
       " 'random_state': 42,\n",
       " 'verbose': 0,\n",
       " 'warm_start': False}"
      ]
     },
     "execution_count": 29,
     "metadata": {},
     "output_type": "execute_result"
    }
   ],
   "source": [
    "bogo_discount_model.get_params()"
   ]
  },
  {
   "cell_type": "code",
   "execution_count": 30,
   "metadata": {},
   "outputs": [
    {
     "name": "stdout",
     "output_type": "stream",
     "text": [
      "Fitting 3 folds for each of 50 candidates, totalling 150 fits\n"
     ]
    },
    {
     "data": {
      "text/plain": [
       "{'n_estimators': 1000,\n",
       " 'min_samples_split': 2,\n",
       " 'min_samples_leaf': 4,\n",
       " 'max_features': 'auto',\n",
       " 'max_depth': 50,\n",
       " 'criterion': 'gini',\n",
       " 'bootstrap': True}"
      ]
     },
     "execution_count": 30,
     "metadata": {},
     "output_type": "execute_result"
    }
   ],
   "source": [
    "params = {'n_estimators': [50, 100, 250, 500, 1000],\n",
    "           'max_features': ['auto', 'log2'],\n",
    "           'max_depth': [5, 10, 20, 50, None],\n",
    "           'min_samples_split': [2, 5, 10],\n",
    "           'min_samples_leaf': [1, 4, 10],\n",
    "           'criterion' : ['gini', 'entropy'],\n",
    "           'bootstrap': [True, False]}\n",
    "\n",
    "cv = RandomizedSearchCV(estimator = RandomForestClassifier(random_state=42),\n",
    "                        param_distributions = params,\n",
    "                        n_iter = 50, cv = 3, verbose = 1, random_state = 42,\n",
    "                        scoring = 'roc_auc')\n",
    "\n",
    "bogo_discount_prep = bogo_discount.dropna(how='any', axis=0)    \n",
    "gender = pd.get_dummies(bogo_discount_prep.gender)\n",
    "bogo_discount_prep = pd.concat([bogo_discount_prep, gender], axis=1)\n",
    "\n",
    "X = bogo_discount_prep.drop(columns=['person_id', 'offer_id', 'time', 'offer_type', 'gender', 'offer',\n",
    "                                     'success', 'unviewed_success', 'failure', 'outcome', 'outcome_factor'])\n",
    "y = bogo_discount_prep.pop('success')\n",
    "    \n",
    "X_train, X_test, y_train, y_test = train_test_split(X, y, test_size = 0.3, random_state=42)\n",
    "\n",
    "score = cv.fit(X_train, y_train)\n",
    "\n",
    "score.best_params_"
   ]
  },
  {
   "cell_type": "code",
   "execution_count": 31,
   "metadata": {},
   "outputs": [
    {
     "name": "stdout",
     "output_type": "stream",
     "text": [
      "              precision    recall  f1-score   support\n",
      "\n",
      "     failure       0.71      0.75      0.73      8424\n",
      "     success       0.70      0.66      0.68      7537\n",
      "\n",
      "    accuracy                           0.70     15961\n",
      "   macro avg       0.70      0.70      0.70     15961\n",
      "weighted avg       0.70      0.70      0.70     15961\n",
      "\n",
      "Overall model accuracy:\t 0.7044044859344653\n",
      "Train ROC AUC score:\t 0.937669681272245\n",
      "Test ROC AUC score:\t 0.771288274773857\n"
     ]
    },
    {
     "data": {
      "image/png": "[encoded data removed]",
      "text/plain": [
       "<Figure size 432x288 with 2 Axes>"
      ]
     },
     "metadata": {
      "needs_background": "light"
     },
     "output_type": "display_data"
    },
    {
     "data": {
      "image/png": "[encoded data removed]",
      "text/plain": [
       "<Figure size 720x360 with 1 Axes>"
      ]
     },
     "metadata": {
      "needs_background": "light"
     },
     "output_type": "display_data"
    }
   ],
   "source": [
    "opt_model = RandomForestClassifier(n_estimators=1000, min_samples_split=2, min_samples_leaf=4,\n",
    "                                         max_features='auto', max_depth=50, criterion='gini',\n",
    "                                         bootstrap=True, random_state=42)\n",
    "model_opt = build_classification_model(bogo_discount, 'success', ['failure', 'success'], model=opt_model)"
   ]
  },
  {
   "cell_type": "markdown",
   "metadata": {},
   "source": [
    "The optimal model found via random search does not perform better than the initial model using mostly default settings."
   ]
  },
  {
   "cell_type": "markdown",
   "metadata": {},
   "source": [
    "#### Descriptive analysis of most important features\n",
    "\n",
    "Now, I am interested in how exactly the most influential features according to the classification model influence offer success. Thus, I take a closer look at membership duration, income, age, the channel 'social', and the total number of offers received by the customers as those are the five most important factors in my model.\n",
    "\n",
    "##### Membership duration"
   ]
  },
  {
   "cell_type": "code",
   "execution_count": 32,
   "metadata": {},
   "outputs": [
    {
     "data": {
      "image/png": "[encoded data removed]",
      "text/plain": [
       "<Figure size 587.25x360 with 1 Axes>"
      ]
     },
     "metadata": {
      "needs_background": "light"
     },
     "output_type": "display_data"
    }
   ],
   "source": [
    "outcome_by_duration = sns.displot(data=bogo_discount, x='membership_duration',\n",
    "                                  kind='kde', hue='success', aspect=1.5)"
   ]
  },
  {
   "cell_type": "code",
   "execution_count": 33,
   "metadata": {},
   "outputs": [
    {
     "data": {
      "text/plain": [
       "success\n",
       "0    1430.004326\n",
       "1    1565.586803\n",
       "Name: membership_duration, dtype: float64"
      ]
     },
     "execution_count": 33,
     "metadata": {},
     "output_type": "execute_result"
    }
   ],
   "source": [
    "bogo_discount.groupby('success')['membership_duration'].mean()"
   ]
  },
  {
   "cell_type": "markdown",
   "metadata": {},
   "source": [
    "Offers are more likely to be successful for members that have been in the program longer. This effect disappears for members with a very high tenure."
   ]
  },
  {
   "cell_type": "markdown",
   "metadata": {},
   "source": [
    "##### Income"
   ]
  },
  {
   "cell_type": "code",
   "execution_count": 34,
   "metadata": {},
   "outputs": [
    {
     "data": {
      "image/png": "[encoded data removed]",
      "text/plain": [
       "<Figure size 587.25x360 with 1 Axes>"
      ]
     },
     "metadata": {
      "needs_background": "light"
     },
     "output_type": "display_data"
    }
   ],
   "source": [
    "success_by_income = sns.displot(data=bogo_discount, x='income', kind='kde', hue='success', aspect=1.5)"
   ]
  },
  {
   "cell_type": "code",
   "execution_count": 35,
   "metadata": {},
   "outputs": [
    {
     "data": {
      "text/plain": [
       "success\n",
       "0    62258.627472\n",
       "1    68820.667248\n",
       "Name: income, dtype: float64"
      ]
     },
     "execution_count": 35,
     "metadata": {},
     "output_type": "execute_result"
    }
   ],
   "source": [
    "bogo_discount.groupby('success')['income'].mean()"
   ]
  },
  {
   "cell_type": "markdown",
   "metadata": {},
   "source": [
    "Offers are more likely to be successful for members with higher incomes."
   ]
  },
  {
   "cell_type": "markdown",
   "metadata": {},
   "source": [
    "##### Age"
   ]
  },
  {
   "cell_type": "code",
   "execution_count": 36,
   "metadata": {},
   "outputs": [
    {
     "data": {
      "image/png": "[encoded data removed]",
      "text/plain": [
       "<Figure size 587.25x360 with 1 Axes>"
      ]
     },
     "metadata": {
      "needs_background": "light"
     },
     "output_type": "display_data"
    }
   ],
   "source": [
    "success_by_age = sns.displot(data=bogo_discount, x='age', kind='kde', hue='success', aspect=1.5)"
   ]
  },
  {
   "cell_type": "code",
   "execution_count": 37,
   "metadata": {},
   "outputs": [
    {
     "data": {
      "text/plain": [
       "success\n",
       "0    53.045703\n",
       "1    55.735280\n",
       "Name: age, dtype: float64"
      ]
     },
     "execution_count": 37,
     "metadata": {},
     "output_type": "execute_result"
    }
   ],
   "source": [
    "bogo_discount.groupby('success')['age'].mean()"
   ]
  },
  {
   "cell_type": "markdown",
   "metadata": {},
   "source": [
    "The age effect is mainly driven by younger customers, for which offers are less likely to be successful. This difference disappears at around age 40."
   ]
  },
  {
   "cell_type": "markdown",
   "metadata": {},
   "source": [
    "##### Social"
   ]
  },
  {
   "cell_type": "code",
   "execution_count": 38,
   "metadata": {},
   "outputs": [
    {
     "data": {
      "text/plain": [
       "social\n",
       "0    0.297210\n",
       "1    0.513359\n",
       "Name: success, dtype: float64"
      ]
     },
     "execution_count": 38,
     "metadata": {},
     "output_type": "execute_result"
    }
   ],
   "source": [
    "bogo_discount.groupby(['social'])['success'].mean()"
   ]
  },
  {
   "cell_type": "markdown",
   "metadata": {},
   "source": [
    "Offers are more likely to be successful when they are sent out via social media."
   ]
  },
  {
   "cell_type": "markdown",
   "metadata": {},
   "source": [
    "##### Total number of received offers"
   ]
  },
  {
   "cell_type": "code",
   "execution_count": 39,
   "metadata": {},
   "outputs": [
    {
     "data": {
      "text/plain": [
       "num_offers\n",
       "1.0    0.433333\n",
       "2.0    0.436269\n",
       "3.0    0.422684\n",
       "4.0    0.425059\n",
       "5.0    0.437230\n",
       "6.0    0.434325\n",
       "Name: success, dtype: float64"
      ]
     },
     "execution_count": 39,
     "metadata": {},
     "output_type": "execute_result"
    }
   ],
   "source": [
    "bogo_discount.groupby(['num_offers'])['success'].mean()"
   ]
  },
  {
   "cell_type": "markdown",
   "metadata": {},
   "source": [
    "Offers tend to be more successful if the total number of received offers is either very low or very high (U-shaped relationship)"
   ]
  },
  {
   "cell_type": "markdown",
   "metadata": {},
   "source": [
    "##### Gender"
   ]
  },
  {
   "cell_type": "code",
   "execution_count": 40,
   "metadata": {},
   "outputs": [
    {
     "data": {
      "text/plain": [
       "gender\n",
       "F    0.536591\n",
       "M    0.426935\n",
       "O    0.595007\n",
       "Name: success, dtype: float64"
      ]
     },
     "execution_count": 40,
     "metadata": {},
     "output_type": "execute_result"
    }
   ],
   "source": [
    "bogo_discount.groupby(['gender'])['success'].mean()"
   ]
  },
  {
   "cell_type": "markdown",
   "metadata": {},
   "source": [
    "#### Which offers are most successful?"
   ]
  },
  {
   "cell_type": "code",
   "execution_count": 41,
   "metadata": {},
   "outputs": [
    {
     "data": {
      "text/html": [
       "<div>\n",
       "<style scoped>\n",
       "    .dataframe tbody tr th:only-of-type {\n",
       "        vertical-align: middle;\n",
       "    }\n",
       "\n",
       "    .dataframe tbody tr th {\n",
       "        vertical-align: top;\n",
       "    }\n",
       "\n",
       "    .dataframe thead th {\n",
       "        text-align: right;\n",
       "    }\n",
       "</style>\n",
       "<table border=\"1\" class=\"dataframe\">\n",
       "  <thead>\n",
       "    <tr style=\"text-align: right;\">\n",
       "      <th></th>\n",
       "      <th>offer</th>\n",
       "      <th>success</th>\n",
       "    </tr>\n",
       "  </thead>\n",
       "  <tbody>\n",
       "    <tr>\n",
       "      <th>4</th>\n",
       "      <td>discount_2_for_10_in_10days</td>\n",
       "      <td>0.649204</td>\n",
       "    </tr>\n",
       "    <tr>\n",
       "      <th>6</th>\n",
       "      <td>discount_3_for_7_in_7days</td>\n",
       "      <td>0.617578</td>\n",
       "    </tr>\n",
       "    <tr>\n",
       "      <th>2</th>\n",
       "      <td>bogo_5_for_5_in_5days</td>\n",
       "      <td>0.515388</td>\n",
       "    </tr>\n",
       "    <tr>\n",
       "      <th>0</th>\n",
       "      <td>bogo_10_for_10_in_5days</td>\n",
       "      <td>0.400369</td>\n",
       "    </tr>\n",
       "    <tr>\n",
       "      <th>1</th>\n",
       "      <td>bogo_10_for_10_in_7days</td>\n",
       "      <td>0.384565</td>\n",
       "    </tr>\n",
       "    <tr>\n",
       "      <th>3</th>\n",
       "      <td>bogo_5_for_5_in_7days</td>\n",
       "      <td>0.340888</td>\n",
       "    </tr>\n",
       "    <tr>\n",
       "      <th>5</th>\n",
       "      <td>discount_2_for_10_in_7days</td>\n",
       "      <td>0.333988</td>\n",
       "    </tr>\n",
       "    <tr>\n",
       "      <th>7</th>\n",
       "      <td>discount_5_for_20_in_10days</td>\n",
       "      <td>0.216875</td>\n",
       "    </tr>\n",
       "  </tbody>\n",
       "</table>\n",
       "</div>"
      ],
      "text/plain": [
       "                         offer   success\n",
       "4  discount_2_for_10_in_10days  0.649204\n",
       "6    discount_3_for_7_in_7days  0.617578\n",
       "2        bogo_5_for_5_in_5days  0.515388\n",
       "0      bogo_10_for_10_in_5days  0.400369\n",
       "1      bogo_10_for_10_in_7days  0.384565\n",
       "3        bogo_5_for_5_in_7days  0.340888\n",
       "5   discount_2_for_10_in_7days  0.333988\n",
       "7  discount_5_for_20_in_10days  0.216875"
      ]
     },
     "execution_count": 41,
     "metadata": {},
     "output_type": "execute_result"
    }
   ],
   "source": [
    "pd.DataFrame(bogo_discount.groupby(['offer'])['success'].mean()).reset_index().sort_values('success', ascending=False)"
   ]
  },
  {
   "cell_type": "markdown",
   "metadata": {},
   "source": [
    "### (b) Informational Offers\n",
    "\n",
    "For informational offers, there is no 'offer completed' event. Thus, for evaluating offer success, I use transaction data."
   ]
  },
  {
   "cell_type": "markdown",
   "metadata": {},
   "source": [
    "#### Data Preparation"
   ]
  },
  {
   "cell_type": "code",
   "execution_count": 42,
   "metadata": {},
   "outputs": [],
   "source": [
    "informational = combined[(combined['offer_type']=='informational') |(combined['event']=='transaction')]"
   ]
  },
  {
   "cell_type": "code",
   "execution_count": 43,
   "metadata": {},
   "outputs": [],
   "source": [
    "def prepare_offer_data_transactions(df):\n",
    "    '''\n",
    "    cleans dataframe for further analysis based on transactions within validity period\n",
    "    \n",
    "    INPUT:\n",
    "    df - the dataframe to be cleaned\n",
    "    \n",
    "    OUTPUT:\n",
    "    test - the cleaned dataframe\n",
    "    \n",
    "    ''' \n",
    "    test = df.sort_values(['person_id','time'])\n",
    "\n",
    "    # calculate remaining time for offers\n",
    "    test['duration_hrs'] = test.duration * 24\n",
    "    test['end_time'] = np.where(test['event']=='offer received', test['time'] + test['duration_hrs'], np.nan)\n",
    "    test['end_time'] = test.groupby('person_id')['end_time'].ffill()\n",
    "    test['remaining'] = test['end_time'] - test.time\n",
    "\n",
    "    # fill in offer column for transactions if offer is still active\n",
    "    test['offer'] = np.where((test['event']=='transaction') & (test['remaining']>=0), test['offer'].ffill(), test.offer)\n",
    "\n",
    "    # get rid of all transactions that do not belong to an offer\n",
    "    test = test[-test['offer'].isna()]\n",
    "\n",
    "    # calculate transaction sum during offer validity period using transactions and offer viewed\n",
    "    test_rest = test[(test['event']=='offer viewed')|(test['event']=='transaction')]\n",
    "    uff = pd.DataFrame(test_rest.groupby(['person_id', 'offer'])['amount'].sum())\n",
    "    uff.rename(columns={'amount':'sum'},inplace=True)\n",
    "    test_rest_sum = pd.merge(test_rest, uff, how='left', on=['person_id', 'offer'])\n",
    "    test_rest_sum['amount'] = np.where(test_rest_sum['event']=='offer viewed', test_rest_sum['sum'], test_rest_sum['amount'])\n",
    "    test = test[test['event']=='offer received'].append(test_rest_sum).sort_values(['person_id','time'])\n",
    "    test = test.drop(columns=['duration_hrs', 'end_time', 'remaining', 'sum'])\n",
    "\n",
    "    # transfer transaction sum to 'offer received' rows\n",
    "    test = test[-(test['event']=='transaction')]\n",
    "    test['amount'] = test.groupby(['person_id', 'offer'])['amount'].shift(-1)\n",
    "    test = test[test['event']=='offer received']\n",
    "    test['amount'] = test['amount'].fillna(0)\n",
    "    \n",
    "    # add customer information\n",
    "    test = pd.merge(test, profile, how='left', on='person_id')\n",
    "    test.drop(['event', 'discount', 'bogo', 'informational', 'offer_type', 'became_member_on'], axis=1, inplace=True)\n",
    "\n",
    "    return test"
   ]
  },
  {
   "cell_type": "code",
   "execution_count": 44,
   "metadata": {},
   "outputs": [
    {
     "data": {
      "text/html": [
       "<div>\n",
       "<style scoped>\n",
       "    .dataframe tbody tr th:only-of-type {\n",
       "        vertical-align: middle;\n",
       "    }\n",
       "\n",
       "    .dataframe tbody tr th {\n",
       "        vertical-align: top;\n",
       "    }\n",
       "\n",
       "    .dataframe thead th {\n",
       "        text-align: right;\n",
       "    }\n",
       "</style>\n",
       "<table border=\"1\" class=\"dataframe\">\n",
       "  <thead>\n",
       "    <tr style=\"text-align: right;\">\n",
       "      <th></th>\n",
       "      <th>person_id</th>\n",
       "      <th>time</th>\n",
       "      <th>amount</th>\n",
       "      <th>offer_id</th>\n",
       "      <th>num_offers</th>\n",
       "      <th>reward</th>\n",
       "      <th>difficulty</th>\n",
       "      <th>duration</th>\n",
       "      <th>email</th>\n",
       "      <th>mobile</th>\n",
       "      <th>social</th>\n",
       "      <th>web</th>\n",
       "      <th>offer</th>\n",
       "      <th>gender</th>\n",
       "      <th>age</th>\n",
       "      <th>income</th>\n",
       "      <th>membership_duration</th>\n",
       "    </tr>\n",
       "  </thead>\n",
       "  <tbody>\n",
       "    <tr>\n",
       "      <th>0</th>\n",
       "      <td>0009655768c64bdeb2e877511632db8f</td>\n",
       "      <td>168</td>\n",
       "      <td>22.16</td>\n",
       "      <td>5a8bc65990b245e5a138643cd4eb9837</td>\n",
       "      <td>5.0</td>\n",
       "      <td>0.0</td>\n",
       "      <td>0.0</td>\n",
       "      <td>3.0</td>\n",
       "      <td>1.0</td>\n",
       "      <td>1.0</td>\n",
       "      <td>1.0</td>\n",
       "      <td>0.0</td>\n",
       "      <td>informational_0_for_0_in_3days</td>\n",
       "      <td>M</td>\n",
       "      <td>33.0</td>\n",
       "      <td>72000.0</td>\n",
       "      <td>1433</td>\n",
       "    </tr>\n",
       "    <tr>\n",
       "      <th>1</th>\n",
       "      <td>0009655768c64bdeb2e877511632db8f</td>\n",
       "      <td>336</td>\n",
       "      <td>8.57</td>\n",
       "      <td>3f207df678b143eea3cee63160fa8bed</td>\n",
       "      <td>5.0</td>\n",
       "      <td>0.0</td>\n",
       "      <td>0.0</td>\n",
       "      <td>4.0</td>\n",
       "      <td>1.0</td>\n",
       "      <td>1.0</td>\n",
       "      <td>0.0</td>\n",
       "      <td>1.0</td>\n",
       "      <td>informational_0_for_0_in_4days</td>\n",
       "      <td>M</td>\n",
       "      <td>33.0</td>\n",
       "      <td>72000.0</td>\n",
       "      <td>1433</td>\n",
       "    </tr>\n",
       "    <tr>\n",
       "      <th>2</th>\n",
       "      <td>0011e0d4e6b944f998e987f904e8c1e5</td>\n",
       "      <td>0</td>\n",
       "      <td>0.00</td>\n",
       "      <td>3f207df678b143eea3cee63160fa8bed</td>\n",
       "      <td>5.0</td>\n",
       "      <td>0.0</td>\n",
       "      <td>0.0</td>\n",
       "      <td>4.0</td>\n",
       "      <td>1.0</td>\n",
       "      <td>1.0</td>\n",
       "      <td>0.0</td>\n",
       "      <td>1.0</td>\n",
       "      <td>informational_0_for_0_in_4days</td>\n",
       "      <td>O</td>\n",
       "      <td>40.0</td>\n",
       "      <td>57000.0</td>\n",
       "      <td>1170</td>\n",
       "    </tr>\n",
       "    <tr>\n",
       "      <th>3</th>\n",
       "      <td>0011e0d4e6b944f998e987f904e8c1e5</td>\n",
       "      <td>336</td>\n",
       "      <td>0.00</td>\n",
       "      <td>5a8bc65990b245e5a138643cd4eb9837</td>\n",
       "      <td>5.0</td>\n",
       "      <td>0.0</td>\n",
       "      <td>0.0</td>\n",
       "      <td>3.0</td>\n",
       "      <td>1.0</td>\n",
       "      <td>1.0</td>\n",
       "      <td>1.0</td>\n",
       "      <td>0.0</td>\n",
       "      <td>informational_0_for_0_in_3days</td>\n",
       "      <td>O</td>\n",
       "      <td>40.0</td>\n",
       "      <td>57000.0</td>\n",
       "      <td>1170</td>\n",
       "    </tr>\n",
       "    <tr>\n",
       "      <th>4</th>\n",
       "      <td>0020c2b971eb4e9188eac86d93036a77</td>\n",
       "      <td>504</td>\n",
       "      <td>51.10</td>\n",
       "      <td>5a8bc65990b245e5a138643cd4eb9837</td>\n",
       "      <td>5.0</td>\n",
       "      <td>0.0</td>\n",
       "      <td>0.0</td>\n",
       "      <td>3.0</td>\n",
       "      <td>1.0</td>\n",
       "      <td>1.0</td>\n",
       "      <td>1.0</td>\n",
       "      <td>0.0</td>\n",
       "      <td>informational_0_for_0_in_3days</td>\n",
       "      <td>F</td>\n",
       "      <td>59.0</td>\n",
       "      <td>90000.0</td>\n",
       "      <td>1846</td>\n",
       "    </tr>\n",
       "    <tr>\n",
       "      <th>...</th>\n",
       "      <td>...</td>\n",
       "      <td>...</td>\n",
       "      <td>...</td>\n",
       "      <td>...</td>\n",
       "      <td>...</td>\n",
       "      <td>...</td>\n",
       "      <td>...</td>\n",
       "      <td>...</td>\n",
       "      <td>...</td>\n",
       "      <td>...</td>\n",
       "      <td>...</td>\n",
       "      <td>...</td>\n",
       "      <td>...</td>\n",
       "      <td>...</td>\n",
       "      <td>...</td>\n",
       "      <td>...</td>\n",
       "      <td>...</td>\n",
       "    </tr>\n",
       "    <tr>\n",
       "      <th>15230</th>\n",
       "      <td>fff0f0aac6c547b9b263080f09a5586a</td>\n",
       "      <td>576</td>\n",
       "      <td>47.50</td>\n",
       "      <td>3f207df678b143eea3cee63160fa8bed</td>\n",
       "      <td>3.0</td>\n",
       "      <td>0.0</td>\n",
       "      <td>0.0</td>\n",
       "      <td>4.0</td>\n",
       "      <td>1.0</td>\n",
       "      <td>1.0</td>\n",
       "      <td>0.0</td>\n",
       "      <td>1.0</td>\n",
       "      <td>informational_0_for_0_in_4days</td>\n",
       "      <td>M</td>\n",
       "      <td>67.0</td>\n",
       "      <td>80000.0</td>\n",
       "      <td>1378</td>\n",
       "    </tr>\n",
       "    <tr>\n",
       "      <th>15231</th>\n",
       "      <td>fff3ba4757bd42088c044ca26d73817a</td>\n",
       "      <td>336</td>\n",
       "      <td>0.00</td>\n",
       "      <td>5a8bc65990b245e5a138643cd4eb9837</td>\n",
       "      <td>6.0</td>\n",
       "      <td>0.0</td>\n",
       "      <td>0.0</td>\n",
       "      <td>3.0</td>\n",
       "      <td>1.0</td>\n",
       "      <td>1.0</td>\n",
       "      <td>1.0</td>\n",
       "      <td>0.0</td>\n",
       "      <td>informational_0_for_0_in_3days</td>\n",
       "      <td>F</td>\n",
       "      <td>69.0</td>\n",
       "      <td>83000.0</td>\n",
       "      <td>2012</td>\n",
       "    </tr>\n",
       "    <tr>\n",
       "      <th>15232</th>\n",
       "      <td>fff3ba4757bd42088c044ca26d73817a</td>\n",
       "      <td>504</td>\n",
       "      <td>432.14</td>\n",
       "      <td>5a8bc65990b245e5a138643cd4eb9837</td>\n",
       "      <td>6.0</td>\n",
       "      <td>0.0</td>\n",
       "      <td>0.0</td>\n",
       "      <td>3.0</td>\n",
       "      <td>1.0</td>\n",
       "      <td>1.0</td>\n",
       "      <td>1.0</td>\n",
       "      <td>0.0</td>\n",
       "      <td>informational_0_for_0_in_3days</td>\n",
       "      <td>F</td>\n",
       "      <td>69.0</td>\n",
       "      <td>83000.0</td>\n",
       "      <td>2012</td>\n",
       "    </tr>\n",
       "    <tr>\n",
       "      <th>15233</th>\n",
       "      <td>fff8957ea8b240a6b5e634b6ee8eafcf</td>\n",
       "      <td>504</td>\n",
       "      <td>0.00</td>\n",
       "      <td>3f207df678b143eea3cee63160fa8bed</td>\n",
       "      <td>3.0</td>\n",
       "      <td>0.0</td>\n",
       "      <td>0.0</td>\n",
       "      <td>4.0</td>\n",
       "      <td>1.0</td>\n",
       "      <td>1.0</td>\n",
       "      <td>0.0</td>\n",
       "      <td>1.0</td>\n",
       "      <td>informational_0_for_0_in_4days</td>\n",
       "      <td>M</td>\n",
       "      <td>71.0</td>\n",
       "      <td>56000.0</td>\n",
       "      <td>1130</td>\n",
       "    </tr>\n",
       "    <tr>\n",
       "      <th>15234</th>\n",
       "      <td>fffad4f4828548d1b5583907f2e9906b</td>\n",
       "      <td>168</td>\n",
       "      <td>5.63</td>\n",
       "      <td>5a8bc65990b245e5a138643cd4eb9837</td>\n",
       "      <td>4.0</td>\n",
       "      <td>0.0</td>\n",
       "      <td>0.0</td>\n",
       "      <td>3.0</td>\n",
       "      <td>1.0</td>\n",
       "      <td>1.0</td>\n",
       "      <td>1.0</td>\n",
       "      <td>0.0</td>\n",
       "      <td>informational_0_for_0_in_3days</td>\n",
       "      <td>M</td>\n",
       "      <td>34.0</td>\n",
       "      <td>34000.0</td>\n",
       "      <td>1521</td>\n",
       "    </tr>\n",
       "  </tbody>\n",
       "</table>\n",
       "<p>15235 rows × 17 columns</p>\n",
       "</div>"
      ],
      "text/plain": [
       "                              person_id  time  amount  \\\n",
       "0      0009655768c64bdeb2e877511632db8f   168   22.16   \n",
       "1      0009655768c64bdeb2e877511632db8f   336    8.57   \n",
       "2      0011e0d4e6b944f998e987f904e8c1e5     0    0.00   \n",
       "3      0011e0d4e6b944f998e987f904e8c1e5   336    0.00   \n",
       "4      0020c2b971eb4e9188eac86d93036a77   504   51.10   \n",
       "...                                 ...   ...     ...   \n",
       "15230  fff0f0aac6c547b9b263080f09a5586a   576   47.50   \n",
       "15231  fff3ba4757bd42088c044ca26d73817a   336    0.00   \n",
       "15232  fff3ba4757bd42088c044ca26d73817a   504  432.14   \n",
       "15233  fff8957ea8b240a6b5e634b6ee8eafcf   504    0.00   \n",
       "15234  fffad4f4828548d1b5583907f2e9906b   168    5.63   \n",
       "\n",
       "                               offer_id  num_offers  reward  difficulty  \\\n",
       "0      5a8bc65990b245e5a138643cd4eb9837         5.0     0.0         0.0   \n",
       "1      3f207df678b143eea3cee63160fa8bed         5.0     0.0         0.0   \n",
       "2      3f207df678b143eea3cee63160fa8bed         5.0     0.0         0.0   \n",
       "3      5a8bc65990b245e5a138643cd4eb9837         5.0     0.0         0.0   \n",
       "4      5a8bc65990b245e5a138643cd4eb9837         5.0     0.0         0.0   \n",
       "...                                 ...         ...     ...         ...   \n",
       "15230  3f207df678b143eea3cee63160fa8bed         3.0     0.0         0.0   \n",
       "15231  5a8bc65990b245e5a138643cd4eb9837         6.0     0.0         0.0   \n",
       "15232  5a8bc65990b245e5a138643cd4eb9837         6.0     0.0         0.0   \n",
       "15233  3f207df678b143eea3cee63160fa8bed         3.0     0.0         0.0   \n",
       "15234  5a8bc65990b245e5a138643cd4eb9837         4.0     0.0         0.0   \n",
       "\n",
       "       duration  email  mobile  social  web                           offer  \\\n",
       "0           3.0    1.0     1.0     1.0  0.0  informational_0_for_0_in_3days   \n",
       "1           4.0    1.0     1.0     0.0  1.0  informational_0_for_0_in_4days   \n",
       "2           4.0    1.0     1.0     0.0  1.0  informational_0_for_0_in_4days   \n",
       "3           3.0    1.0     1.0     1.0  0.0  informational_0_for_0_in_3days   \n",
       "4           3.0    1.0     1.0     1.0  0.0  informational_0_for_0_in_3days   \n",
       "...         ...    ...     ...     ...  ...                             ...   \n",
       "15230       4.0    1.0     1.0     0.0  1.0  informational_0_for_0_in_4days   \n",
       "15231       3.0    1.0     1.0     1.0  0.0  informational_0_for_0_in_3days   \n",
       "15232       3.0    1.0     1.0     1.0  0.0  informational_0_for_0_in_3days   \n",
       "15233       4.0    1.0     1.0     0.0  1.0  informational_0_for_0_in_4days   \n",
       "15234       3.0    1.0     1.0     1.0  0.0  informational_0_for_0_in_3days   \n",
       "\n",
       "      gender   age   income  membership_duration  \n",
       "0          M  33.0  72000.0                 1433  \n",
       "1          M  33.0  72000.0                 1433  \n",
       "2          O  40.0  57000.0                 1170  \n",
       "3          O  40.0  57000.0                 1170  \n",
       "4          F  59.0  90000.0                 1846  \n",
       "...      ...   ...      ...                  ...  \n",
       "15230      M  67.0  80000.0                 1378  \n",
       "15231      F  69.0  83000.0                 2012  \n",
       "15232      F  69.0  83000.0                 2012  \n",
       "15233      M  71.0  56000.0                 1130  \n",
       "15234      M  34.0  34000.0                 1521  \n",
       "\n",
       "[15235 rows x 17 columns]"
      ]
     },
     "execution_count": 44,
     "metadata": {},
     "output_type": "execute_result"
    }
   ],
   "source": [
    "info_cleaned = prepare_offer_data_transactions(informational)\n",
    "info_cleaned"
   ]
  },
  {
   "cell_type": "markdown",
   "metadata": {},
   "source": [
    "#### Model Estimation"
   ]
  },
  {
   "cell_type": "code",
   "execution_count": 45,
   "metadata": {},
   "outputs": [],
   "source": [
    "# TODO: Model for Informational Offers"
   ]
  },
  {
   "cell_type": "markdown",
   "metadata": {},
   "source": [
    "## 4. Discussion\n",
    "\n",
    "### (a) Results\n",
    "\n",
    "In this project, my goal was to ... To this end, I have built two machine learning models:\n",
    "\n",
    "For BOGO and discount offers, the random forest classification model can be used to predict whether an offer is going to be successfully completed based on customer and offer characteristics. The final model has an accuracy of 71%, which is a decent number for business purposes, although there is room for improvement.\n",
    "\n",
    "The most relevant factors for offer success based on the model are:\n",
    "\n",
    "1. Membership duration\n",
    "2. Income\n",
    "3. Age\n",
    "4. Total number of received offers\n",
    "5. Usage of the 'social' channel\n",
    "\n",
    "For informational offers, ...\n",
    "\n",
    "### (b) Conclusion: Reflection and Improvement\n",
    "\n",
    "The main caveats in this project from my point of view were to properly define and construct the outcome variables.\n",
    "\n",
    "Possible improvements of the project include:\n",
    "\n",
    "* Use alternative modeling techniques to see whether model performance can be improved in this way (e.g., a decision tree classifier instead of the random forest classifier).\n",
    "* Explore the impact of BOGO and discount offers on revenue by constructing an additional outcome value based on transactions made. This would make it possible to analyze all offers in one model and would provide additional useful information to Starbucks."
   ]
  },
  {
   "cell_type": "code",
   "execution_count": null,
   "metadata": {},
   "outputs": [],
   "source": [
    "# TODO: finish Discussion"
   ]
  },
  {
   "cell_type": "markdown",
   "metadata": {},
   "source": [
    "## Playground"
   ]
  },
  {
   "cell_type": "markdown",
   "metadata": {},
   "source": [
    "### Estimate Multioutput Model"
   ]
  },
  {
   "cell_type": "code",
   "execution_count": 47,
   "metadata": {},
   "outputs": [],
   "source": [
    "def multioutput_model(df, target_names):\n",
    "    \n",
    "    df = df.dropna(how='any', axis=0)\n",
    "    \n",
    "    gender = pd.get_dummies(df.gender)\n",
    "    df = pd.concat([df, gender], axis=1)\n",
    "    \n",
    "    X = df.drop(columns=['person_id', 'offer_id', 'time', 'offer_type',\n",
    "                         'gender', 'success', 'unviewed_success', 'failure', 'outcome', 'outcome_factor'])\n",
    "    Y = df[['success', 'unviewed_success', 'failure']]\n",
    "    \n",
    "    X_train, X_test, Y_train, Y_test = train_test_split(X, Y, test_size = 0.3, random_state=42)\n",
    "    \n",
    "    model = MultiOutputClassifier(RandomForestClassifier(max_depth=20, random_state=42))\n",
    "    model.fit(X_train, Y_train)\n",
    "    \n",
    "    model_predictions = model.predict(X_test)\n",
    "    \n",
    "    print(classification_report(Y_test, model_predictions, target_names=target_names))\n",
    "    \n",
    "    print(\"Overall model accuracy:\\t {}\".format(model.score(X_test, Y_test)))\n",
    "    \n",
    "    return model"
   ]
  },
  {
   "cell_type": "code",
   "execution_count": 48,
   "metadata": {},
   "outputs": [
    {
     "name": "stderr",
     "output_type": "stream",
     "text": [
      "/usr/local/anaconda3/lib/python3.8/site-packages/sklearn/metrics/_classification.py:1245: UndefinedMetricWarning: Precision and F-score are ill-defined and being set to 0.0 in samples with no predicted labels. Use `zero_division` parameter to control this behavior.\n",
      "  _warn_prf(average, modifier, msg_start, len(result))\n"
     ]
    },
    {
     "name": "stdout",
     "output_type": "stream",
     "text": [
      "                  precision    recall  f1-score   support\n",
      "\n",
      "         success       0.69      0.69      0.69      7537\n",
      "unviewed_success       0.41      0.15      0.22      2514\n",
      "         failure       0.68      0.60      0.64      5910\n",
      "\n",
      "       micro avg       0.67      0.57      0.62     15961\n",
      "       macro avg       0.60      0.48      0.52     15961\n",
      "    weighted avg       0.65      0.57      0.60     15961\n",
      "     samples avg       0.57      0.57      0.57     15961\n",
      "\n",
      "Overall model accuracy:\t 0.5660672890169789\n"
     ]
    }
   ],
   "source": [
    "from sklearn.multioutput import MultiOutputClassifier\n",
    "\n",
    "bogo_multi = multioutput_model(bogo_discount.drop(columns=['offer']), ['success', 'unviewed_success', 'failure'])"
   ]
  },
  {
   "cell_type": "code",
   "execution_count": null,
   "metadata": {},
   "outputs": [],
   "source": []
  }
 ],
 "metadata": {
  "kernelspec": {
   "display_name": "Python 3",
   "language": "python",
   "name": "python3"
  },
  "language_info": {
   "codemirror_mode": {
    "name": "ipython",
    "version": 3
   },
   "file_extension": ".py",
   "mimetype": "text/x-python",
   "name": "python",
   "nbconvert_exporter": "python",
   "pygments_lexer": "ipython3",
   "version": "3.8.8"
  }
 },
 "nbformat": 4,
 "nbformat_minor": 2
}
